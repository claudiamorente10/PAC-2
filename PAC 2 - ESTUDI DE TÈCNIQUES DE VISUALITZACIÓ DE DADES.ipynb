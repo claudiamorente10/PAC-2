{
 "cells": [
  {
   "cell_type": "markdown",
   "metadata": {},
   "source": [
    "# **LINE CHART**"
   ]
  },
  {
   "cell_type": "markdown",
   "metadata": {},
   "source": [
    "### INSTALL PACKAGES & IMPORT LIBRARIES"
   ]
  },
  {
   "cell_type": "code",
   "execution_count": 4,
   "metadata": {
    "scrolled": true
   },
   "outputs": [
    {
     "name": "stdout",
     "output_type": "stream",
     "text": [
      "Requirement already satisfied: calplot in c:\\programdata\\anaconda3\\lib\\site-packages (0.1.7.3)\n",
      "Requirement already satisfied: pandas>=1 in c:\\programdata\\anaconda3\\lib\\site-packages (from calplot) (1.1.3)\n",
      "Requirement already satisfied: numpy in c:\\programdata\\anaconda3\\lib\\site-packages (from calplot) (1.19.2)\n",
      "Requirement already satisfied: matplotlib in c:\\programdata\\anaconda3\\lib\\site-packages (from calplot) (3.3.2)\n",
      "Requirement already satisfied: pytz>=2017.2 in c:\\programdata\\anaconda3\\lib\\site-packages (from pandas>=1->calplot) (2020.1)\n",
      "Requirement already satisfied: python-dateutil>=2.7.3 in c:\\programdata\\anaconda3\\lib\\site-packages (from pandas>=1->calplot) (2.8.1)\n",
      "Requirement already satisfied: pillow>=6.2.0 in c:\\programdata\\anaconda3\\lib\\site-packages (from matplotlib->calplot) (8.0.1)\n",
      "Requirement already satisfied: cycler>=0.10 in c:\\programdata\\anaconda3\\lib\\site-packages (from matplotlib->calplot) (0.10.0)\n",
      "Requirement already satisfied: certifi>=2020.06.20 in c:\\programdata\\anaconda3\\lib\\site-packages (from matplotlib->calplot) (2020.6.20)\n",
      "Requirement already satisfied: kiwisolver>=1.0.1 in c:\\programdata\\anaconda3\\lib\\site-packages (from matplotlib->calplot) (1.3.0)\n",
      "Requirement already satisfied: pyparsing!=2.0.4,!=2.1.2,!=2.1.6,>=2.0.3 in c:\\programdata\\anaconda3\\lib\\site-packages (from matplotlib->calplot) (2.4.7)\n",
      "Requirement already satisfied: six>=1.5 in c:\\programdata\\anaconda3\\lib\\site-packages (from python-dateutil>=2.7.3->pandas>=1->calplot) (1.15.0)\n"
     ]
    }
   ],
   "source": [
    "!pip install calplot"
   ]
  },
  {
   "cell_type": "code",
   "execution_count": 5,
   "metadata": {},
   "outputs": [
    {
     "name": "stdout",
     "output_type": "stream",
     "text": [
      "Requirement already satisfied: plotly in c:\\programdata\\anaconda3\\lib\\site-packages (5.3.1)\n",
      "Requirement already satisfied: tenacity>=6.2.0 in c:\\programdata\\anaconda3\\lib\\site-packages (from plotly) (8.0.1)\n",
      "Requirement already satisfied: six in c:\\programdata\\anaconda3\\lib\\site-packages (from plotly) (1.15.0)\n"
     ]
    }
   ],
   "source": [
    "!pip install plotly"
   ]
  },
  {
   "cell_type": "code",
   "execution_count": 2,
   "metadata": {},
   "outputs": [],
   "source": [
    "import pandas as pd\n",
    "import matplotlib.pyplot as plt\n",
    "import matplotlib.dates as mdates\n",
    "import seaborn as sns\n",
    "import plotly.graph_objs as go\n",
    "import calplot\n",
    "import calendar"
   ]
  },
  {
   "cell_type": "markdown",
   "metadata": {},
   "source": [
    "### LOAD DATASET"
   ]
  },
  {
   "cell_type": "code",
   "execution_count": 7,
   "metadata": {},
   "outputs": [
    {
     "data": {
      "text/html": [
       "<div>\n",
       "<style scoped>\n",
       "    .dataframe tbody tr th:only-of-type {\n",
       "        vertical-align: middle;\n",
       "    }\n",
       "\n",
       "    .dataframe tbody tr th {\n",
       "        vertical-align: top;\n",
       "    }\n",
       "\n",
       "    .dataframe thead th {\n",
       "        text-align: right;\n",
       "    }\n",
       "</style>\n",
       "<table border=\"1\" class=\"dataframe\">\n",
       "  <thead>\n",
       "    <tr style=\"text-align: right;\">\n",
       "      <th></th>\n",
       "      <th>Date</th>\n",
       "      <th>Open</th>\n",
       "      <th>High</th>\n",
       "      <th>Low</th>\n",
       "      <th>Close</th>\n",
       "      <th>Adj Close</th>\n",
       "      <th>Volume</th>\n",
       "    </tr>\n",
       "  </thead>\n",
       "  <tbody>\n",
       "    <tr>\n",
       "      <th>0</th>\n",
       "      <td>2019-10-16</td>\n",
       "      <td>254.89</td>\n",
       "      <td>257.61</td>\n",
       "      <td>253.08</td>\n",
       "      <td>255.96</td>\n",
       "      <td>251.60</td>\n",
       "      <td>525200</td>\n",
       "    </tr>\n",
       "    <tr>\n",
       "      <th>1</th>\n",
       "      <td>2019-10-17</td>\n",
       "      <td>256.12</td>\n",
       "      <td>259.96</td>\n",
       "      <td>255.78</td>\n",
       "      <td>256.45</td>\n",
       "      <td>252.09</td>\n",
       "      <td>515100</td>\n",
       "    </tr>\n",
       "    <tr>\n",
       "      <th>2</th>\n",
       "      <td>2019-10-18</td>\n",
       "      <td>257.45</td>\n",
       "      <td>258.40</td>\n",
       "      <td>254.23</td>\n",
       "      <td>255.70</td>\n",
       "      <td>251.35</td>\n",
       "      <td>609900</td>\n",
       "    </tr>\n",
       "    <tr>\n",
       "      <th>3</th>\n",
       "      <td>2019-10-21</td>\n",
       "      <td>256.61</td>\n",
       "      <td>259.84</td>\n",
       "      <td>255.67</td>\n",
       "      <td>257.52</td>\n",
       "      <td>253.14</td>\n",
       "      <td>499600</td>\n",
       "    </tr>\n",
       "    <tr>\n",
       "      <th>4</th>\n",
       "      <td>2019-10-22</td>\n",
       "      <td>257.27</td>\n",
       "      <td>259.47</td>\n",
       "      <td>255.38</td>\n",
       "      <td>258.94</td>\n",
       "      <td>254.53</td>\n",
       "      <td>343100</td>\n",
       "    </tr>\n",
       "  </tbody>\n",
       "</table>\n",
       "</div>"
      ],
      "text/plain": [
       "         Date    Open    High     Low   Close  Adj Close  Volume\n",
       "0  2019-10-16  254.89  257.61  253.08  255.96     251.60  525200\n",
       "1  2019-10-17  256.12  259.96  255.78  256.45     252.09  515100\n",
       "2  2019-10-18  257.45  258.40  254.23  255.70     251.35  609900\n",
       "3  2019-10-21  256.61  259.84  255.67  257.52     253.14  499600\n",
       "4  2019-10-22  257.27  259.47  255.38  258.94     254.53  343100"
      ]
     },
     "execution_count": 7,
     "metadata": {},
     "output_type": "execute_result"
    }
   ],
   "source": [
    "pizza = pd.read_csv(\"C:/Users/Jordi Morente/Downloads/dominos_stock_price/Dominos_Stock_Data.csv\")\n",
    "pizza.head()"
   ]
  },
  {
   "cell_type": "markdown",
   "metadata": {},
   "source": [
    "### CHECKING THE TYPES AND MISSING VALUES"
   ]
  },
  {
   "cell_type": "code",
   "execution_count": 8,
   "metadata": {},
   "outputs": [
    {
     "name": "stdout",
     "output_type": "stream",
     "text": [
      "<class 'pandas.core.frame.DataFrame'>\n",
      "RangeIndex: 505 entries, 0 to 504\n",
      "Data columns (total 7 columns):\n",
      " #   Column     Non-Null Count  Dtype  \n",
      "---  ------     --------------  -----  \n",
      " 0   Date       505 non-null    object \n",
      " 1   Open       505 non-null    float64\n",
      " 2   High       505 non-null    float64\n",
      " 3   Low        505 non-null    float64\n",
      " 4   Close      505 non-null    float64\n",
      " 5   Adj Close  505 non-null    float64\n",
      " 6   Volume     505 non-null    int64  \n",
      "dtypes: float64(5), int64(1), object(1)\n",
      "memory usage: 27.7+ KB\n"
     ]
    }
   ],
   "source": [
    "pizza.info()"
   ]
  },
  {
   "cell_type": "code",
   "execution_count": 9,
   "metadata": {},
   "outputs": [
    {
     "data": {
      "text/plain": [
       "Date         0\n",
       "Open         0\n",
       "High         0\n",
       "Low          0\n",
       "Close        0\n",
       "Adj Close    0\n",
       "Volume       0\n",
       "dtype: int64"
      ]
     },
     "execution_count": 9,
     "metadata": {},
     "output_type": "execute_result"
    }
   ],
   "source": [
    "pizza.isna().sum()"
   ]
  },
  {
   "cell_type": "code",
   "execution_count": 10,
   "metadata": {},
   "outputs": [
    {
     "data": {
      "text/plain": [
       "Date         0\n",
       "Open         0\n",
       "High         0\n",
       "Low          0\n",
       "Close        0\n",
       "Adj Close    0\n",
       "Volume       0\n",
       "dtype: int64"
      ]
     },
     "execution_count": 10,
     "metadata": {},
     "output_type": "execute_result"
    }
   ],
   "source": [
    "pizza.isnull().sum()"
   ]
  },
  {
   "cell_type": "markdown",
   "metadata": {},
   "source": [
    "### VISUALIZATION\n",
    "\n",
    "PRICE EVOLUTION FOR 2 YEAR PERIOD"
   ]
  },
  {
   "cell_type": "code",
   "execution_count": 11,
   "metadata": {},
   "outputs": [
    {
     "data": {
      "image/png": "[encoded data removed]",
      "text/plain": [
       "<Figure size 1440x576 with 1 Axes>"
      ]
     },
     "metadata": {
      "needs_background": "light"
     },
     "output_type": "display_data"
    }
   ],
   "source": [
    "pizza['Date'] = pd.to_datetime(pizza['Date'])\n",
    "date = pizza['Date']\n",
    "value = pizza['Close']\n",
    "\n",
    "fig, ax = plt.subplots(figsize=(20,8))\n",
    "\n",
    "plt.title(\"Dominos Stock Evolution\",fontsize=18)\n",
    "plt.xlabel(\"Year-Month Time Frame\",fontsize=13)\n",
    "plt.ylabel(\"Daily Closing Price\",fontsize=13)\n",
    "\n",
    "half_year_locator = mdates.MonthLocator(interval=1)\n",
    "year_month_formatter = mdates.DateFormatter(\"%b-%Y\")\n",
    "monthly_locator = mdates.MonthLocator()\n",
    "\n",
    "ax.xaxis.set_major_locator(half_year_locator)\n",
    "ax.xaxis.set_minor_locator(monthly_locator)\n",
    "ax.xaxis.set_major_formatter(year_month_formatter)\n",
    "\n",
    "ax.plot(date,value);\n",
    "\n",
    "fig.autofmt_xdate()"
   ]
  },
  {
   "cell_type": "markdown",
   "metadata": {},
   "source": [
    "# **GAUGE DIAGRAM**"
   ]
  },
  {
   "cell_type": "markdown",
   "metadata": {},
   "source": [
    "### INSTALL PACKAGES & IMPORT LIBRARIES"
   ]
  },
  {
   "cell_type": "code",
   "execution_count": 12,
   "metadata": {},
   "outputs": [
    {
     "name": "stdout",
     "output_type": "stream",
     "text": [
      "Requirement already satisfied: pygal in c:\\programdata\\anaconda3\\lib\\site-packages (2.4.0)\n"
     ]
    }
   ],
   "source": [
    "!pip install pygal"
   ]
  },
  {
   "cell_type": "code",
   "execution_count": 13,
   "metadata": {},
   "outputs": [
    {
     "name": "stdout",
     "output_type": "stream",
     "text": [
      "Requirement already satisfied: CairoSVG in c:\\programdata\\anaconda3\\lib\\site-packages (2.5.2)\n",
      "Requirement already satisfied: tinycss2 in c:\\programdata\\anaconda3\\lib\\site-packages (from CairoSVG) (1.1.0)\n",
      "Requirement already satisfied: pillow in c:\\programdata\\anaconda3\\lib\\site-packages (from CairoSVG) (8.0.1)\n",
      "Requirement already satisfied: defusedxml in c:\\programdata\\anaconda3\\lib\\site-packages (from CairoSVG) (0.6.0)\n",
      "Requirement already satisfied: cssselect2 in c:\\programdata\\anaconda3\\lib\\site-packages (from CairoSVG) (0.4.1)\n",
      "Requirement already satisfied: cairocffi in c:\\programdata\\anaconda3\\lib\\site-packages (from CairoSVG) (1.3.0)\n",
      "Requirement already satisfied: webencodings>=0.4 in c:\\programdata\\anaconda3\\lib\\site-packages (from tinycss2->CairoSVG) (0.5.1)\n",
      "Requirement already satisfied: cffi>=1.1.0 in c:\\programdata\\anaconda3\\lib\\site-packages (from cairocffi->CairoSVG) (1.14.3)\n",
      "Requirement already satisfied: pycparser in c:\\programdata\\anaconda3\\lib\\site-packages (from cffi>=1.1.0->cairocffi->CairoSVG) (2.20)\n"
     ]
    }
   ],
   "source": [
    "!pip install CairoSVG"
   ]
  },
  {
   "cell_type": "code",
   "execution_count": 14,
   "metadata": {},
   "outputs": [
    {
     "ename": "ModuleNotFoundError",
     "evalue": "No module named 'CairoSVG'",
     "output_type": "error",
     "traceback": [
      "\u001b[1;31m---------------------------------------------------------------------------\u001b[0m",
      "\u001b[1;31mModuleNotFoundError\u001b[0m                       Traceback (most recent call last)",
      "\u001b[1;32m<ipython-input-14-3476e168a0c1>\u001b[0m in \u001b[0;36m<module>\u001b[1;34m\u001b[0m\n\u001b[0;32m      1\u001b[0m \u001b[1;32mimport\u001b[0m \u001b[0mpygal\u001b[0m\u001b[1;33m\u001b[0m\u001b[1;33m\u001b[0m\u001b[0m\n\u001b[1;32m----> 2\u001b[1;33m \u001b[1;32mimport\u001b[0m \u001b[0mCairoSVG\u001b[0m\u001b[1;33m\u001b[0m\u001b[1;33m\u001b[0m\u001b[0m\n\u001b[0m",
      "\u001b[1;31mModuleNotFoundError\u001b[0m: No module named 'CairoSVG'"
     ]
    }
   ],
   "source": [
    "import pygal\n",
    "import CairoSVG"
   ]
  },
  {
   "cell_type": "markdown",
   "metadata": {},
   "source": [
    "### LOAD DATASET"
   ]
  },
  {
   "cell_type": "code",
   "execution_count": 132,
   "metadata": {},
   "outputs": [
    {
     "data": {
      "text/html": [
       "<div>\n",
       "<style scoped>\n",
       "    .dataframe tbody tr th:only-of-type {\n",
       "        vertical-align: middle;\n",
       "    }\n",
       "\n",
       "    .dataframe tbody tr th {\n",
       "        vertical-align: top;\n",
       "    }\n",
       "\n",
       "    .dataframe thead th {\n",
       "        text-align: right;\n",
       "    }\n",
       "</style>\n",
       "<table border=\"1\" class=\"dataframe\">\n",
       "  <thead>\n",
       "    <tr style=\"text-align: right;\">\n",
       "      <th></th>\n",
       "      <th>Area</th>\n",
       "      <th>Years</th>\n",
       "      <th>Revenue</th>\n",
       "    </tr>\n",
       "  </thead>\n",
       "  <tbody>\n",
       "    <tr>\n",
       "      <th>0</th>\n",
       "      <td>United States and Canada</td>\n",
       "      <td>Q1 - 2018</td>\n",
       "      <td>1976157000</td>\n",
       "    </tr>\n",
       "    <tr>\n",
       "      <th>1</th>\n",
       "      <td>Europe,  Middle East and Africa</td>\n",
       "      <td>Q1 - 2018</td>\n",
       "      <td>886649000</td>\n",
       "    </tr>\n",
       "    <tr>\n",
       "      <th>2</th>\n",
       "      <td>Latin America</td>\n",
       "      <td>Q1 - 2018</td>\n",
       "      <td>540182000</td>\n",
       "    </tr>\n",
       "    <tr>\n",
       "      <th>3</th>\n",
       "      <td>Asia-Pacific</td>\n",
       "      <td>Q1 - 2018</td>\n",
       "      <td>199117000</td>\n",
       "    </tr>\n",
       "    <tr>\n",
       "      <th>4</th>\n",
       "      <td>United States and Canada</td>\n",
       "      <td>Q2 - 2018</td>\n",
       "      <td>2049546000</td>\n",
       "    </tr>\n",
       "  </tbody>\n",
       "</table>\n",
       "</div>"
      ],
      "text/plain": [
       "                              Area      Years     Revenue\n",
       "0         United States and Canada  Q1 - 2018  1976157000\n",
       "1  Europe,  Middle East and Africa  Q1 - 2018   886649000\n",
       "2                    Latin America  Q1 - 2018   540182000\n",
       "3                     Asia-Pacific  Q1 - 2018   199117000\n",
       "4         United States and Canada  Q2 - 2018  2049546000"
      ]
     },
     "execution_count": 132,
     "metadata": {},
     "output_type": "execute_result"
    }
   ],
   "source": [
    "netflix = pd.read_csv(\"C:/Users/Jordi Morente/Downloads/DataNetflixRevenue2020_V2.csv\")\n",
    "netflix.head()"
   ]
  },
  {
   "cell_type": "code",
   "execution_count": 133,
   "metadata": {},
   "outputs": [],
   "source": [
    "netflix.to_excel (r'C:/Users/Jordi Morente/Downloads/Netflix.xlsx', index = None, header=True)"
   ]
  },
  {
   "cell_type": "markdown",
   "metadata": {},
   "source": [
    "### CHECK THE TYPES AND MISS VALUES"
   ]
  },
  {
   "cell_type": "code",
   "execution_count": 16,
   "metadata": {},
   "outputs": [
    {
     "name": "stdout",
     "output_type": "stream",
     "text": [
      "<class 'pandas.core.frame.DataFrame'>\n",
      "RangeIndex: 40 entries, 0 to 39\n",
      "Data columns (total 3 columns):\n",
      " #   Column   Non-Null Count  Dtype \n",
      "---  ------   --------------  ----- \n",
      " 0   Area     40 non-null     object\n",
      " 1   Years    40 non-null     object\n",
      " 2   Revenue  40 non-null     int64 \n",
      "dtypes: int64(1), object(2)\n",
      "memory usage: 1.1+ KB\n"
     ]
    }
   ],
   "source": [
    "netflix.info()"
   ]
  },
  {
   "cell_type": "code",
   "execution_count": 17,
   "metadata": {},
   "outputs": [
    {
     "data": {
      "text/plain": [
       "Area       0\n",
       "Years      0\n",
       "Revenue    0\n",
       "dtype: int64"
      ]
     },
     "execution_count": 17,
     "metadata": {},
     "output_type": "execute_result"
    }
   ],
   "source": [
    "netflix.isna().sum()"
   ]
  },
  {
   "cell_type": "code",
   "execution_count": 18,
   "metadata": {},
   "outputs": [
    {
     "data": {
      "text/plain": [
       "Area       0\n",
       "Years      0\n",
       "Revenue    0\n",
       "dtype: int64"
      ]
     },
     "execution_count": 18,
     "metadata": {},
     "output_type": "execute_result"
    }
   ],
   "source": [
    "netflix.isnull().sum()"
   ]
  },
  {
   "cell_type": "code",
   "execution_count": 19,
   "metadata": {},
   "outputs": [
    {
     "data": {
      "text/html": [
       "<div>\n",
       "<style scoped>\n",
       "    .dataframe tbody tr th:only-of-type {\n",
       "        vertical-align: middle;\n",
       "    }\n",
       "\n",
       "    .dataframe tbody tr th {\n",
       "        vertical-align: top;\n",
       "    }\n",
       "\n",
       "    .dataframe thead th {\n",
       "        text-align: right;\n",
       "    }\n",
       "</style>\n",
       "<table border=\"1\" class=\"dataframe\">\n",
       "  <thead>\n",
       "    <tr style=\"text-align: right;\">\n",
       "      <th></th>\n",
       "      <th>Area</th>\n",
       "      <th>Revenue</th>\n",
       "    </tr>\n",
       "  </thead>\n",
       "  <tbody>\n",
       "    <tr>\n",
       "      <th>0</th>\n",
       "      <td>United States and Canada</td>\n",
       "      <td>1976157000</td>\n",
       "    </tr>\n",
       "    <tr>\n",
       "      <th>1</th>\n",
       "      <td>Europe,  Middle East and Africa</td>\n",
       "      <td>886649000</td>\n",
       "    </tr>\n",
       "    <tr>\n",
       "      <th>2</th>\n",
       "      <td>Latin America</td>\n",
       "      <td>540182000</td>\n",
       "    </tr>\n",
       "    <tr>\n",
       "      <th>3</th>\n",
       "      <td>Asia-Pacific</td>\n",
       "      <td>199117000</td>\n",
       "    </tr>\n",
       "    <tr>\n",
       "      <th>4</th>\n",
       "      <td>United States and Canada</td>\n",
       "      <td>2049546000</td>\n",
       "    </tr>\n",
       "  </tbody>\n",
       "</table>\n",
       "</div>"
      ],
      "text/plain": [
       "                              Area     Revenue\n",
       "0         United States and Canada  1976157000\n",
       "1  Europe,  Middle East and Africa   886649000\n",
       "2                    Latin America   540182000\n",
       "3                     Asia-Pacific   199117000\n",
       "4         United States and Canada  2049546000"
      ]
     },
     "execution_count": 19,
     "metadata": {},
     "output_type": "execute_result"
    }
   ],
   "source": [
    "netflix = netflix.drop(columns=['Years'])\n",
    "netflix.head()"
   ]
  },
  {
   "cell_type": "markdown",
   "metadata": {},
   "source": [
    "### SUM REVENUES BY AREA"
   ]
  },
  {
   "cell_type": "code",
   "execution_count": 20,
   "metadata": {},
   "outputs": [
    {
     "data": {
      "text/html": [
       "<div>\n",
       "<style scoped>\n",
       "    .dataframe tbody tr th:only-of-type {\n",
       "        vertical-align: middle;\n",
       "    }\n",
       "\n",
       "    .dataframe tbody tr th {\n",
       "        vertical-align: top;\n",
       "    }\n",
       "\n",
       "    .dataframe thead th {\n",
       "        text-align: right;\n",
       "    }\n",
       "</style>\n",
       "<table border=\"1\" class=\"dataframe\">\n",
       "  <thead>\n",
       "    <tr style=\"text-align: right;\">\n",
       "      <th></th>\n",
       "      <th>Revenue</th>\n",
       "    </tr>\n",
       "    <tr>\n",
       "      <th>Area</th>\n",
       "      <th></th>\n",
       "    </tr>\n",
       "  </thead>\n",
       "  <tbody>\n",
       "    <tr>\n",
       "      <th>Asia-Pacific</th>\n",
       "      <td>3468137000</td>\n",
       "    </tr>\n",
       "    <tr>\n",
       "      <th>Europe,  Middle East and Africa</th>\n",
       "      <td>13122785000</td>\n",
       "    </tr>\n",
       "    <tr>\n",
       "      <th>Latin America</th>\n",
       "      <td>6611952000</td>\n",
       "    </tr>\n",
       "    <tr>\n",
       "      <th>United States and Canada</th>\n",
       "      <td>23875186000</td>\n",
       "    </tr>\n",
       "  </tbody>\n",
       "</table>\n",
       "</div>"
      ],
      "text/plain": [
       "                                     Revenue\n",
       "Area                                        \n",
       "Asia-Pacific                      3468137000\n",
       "Europe,  Middle East and Africa  13122785000\n",
       "Latin America                     6611952000\n",
       "United States and Canada         23875186000"
      ]
     },
     "execution_count": 20,
     "metadata": {},
     "output_type": "execute_result"
    }
   ],
   "source": [
    "netflix.groupby(['Area']).sum()"
   ]
  },
  {
   "cell_type": "code",
   "execution_count": 21,
   "metadata": {},
   "outputs": [
    {
     "name": "stdout",
     "output_type": "stream",
     "text": [
      "Asia Revenue: 3468137000\n"
     ]
    }
   ],
   "source": [
    "netflix_Asia = netflix[netflix['Area'] == 'Asia-Pacific']\n",
    "revenue_Asia = netflix_Asia['Revenue'].sum()\n",
    "print('Asia Revenue:', revenue_Asia)"
   ]
  },
  {
   "cell_type": "code",
   "execution_count": 22,
   "metadata": {},
   "outputs": [
    {
     "name": "stdout",
     "output_type": "stream",
     "text": [
      "Europe, Middle East and Africa Revenue: 13122785000\n"
     ]
    }
   ],
   "source": [
    "netflix_Europe_Africa = netflix[netflix['Area'] == 'Europe,  Middle East and Africa']\n",
    "revenue_Europe_Africa = netflix_Europe_Africa['Revenue'].sum()\n",
    "print('Europe, Middle East and Africa Revenue:', revenue_Europe_Africa)"
   ]
  },
  {
   "cell_type": "code",
   "execution_count": 23,
   "metadata": {},
   "outputs": [
    {
     "name": "stdout",
     "output_type": "stream",
     "text": [
      "Latin America Revenue: 6611952000\n"
     ]
    }
   ],
   "source": [
    "netflix_LatinAmerica = netflix[netflix['Area'] == 'Latin America']\n",
    "revenue_LatinAmerica = netflix_LatinAmerica['Revenue'].sum()\n",
    "print('Latin America Revenue:', revenue_LatinAmerica)"
   ]
  },
  {
   "cell_type": "code",
   "execution_count": 24,
   "metadata": {},
   "outputs": [
    {
     "name": "stdout",
     "output_type": "stream",
     "text": [
      "United States and Canada Revenue: 23875186000\n"
     ]
    }
   ],
   "source": [
    "netflix_USA_Canada = netflix[netflix['Area'] == 'United States and Canada']\n",
    "revenue_USA_Canada = netflix_USA_Canada['Revenue'].sum()\n",
    "print('United States and Canada Revenue:', revenue_USA_Canada)"
   ]
  },
  {
   "cell_type": "markdown",
   "metadata": {},
   "source": [
    "### VISUALIZATION\n",
    "\n",
    "REVENUE BY AREA"
   ]
  },
  {
   "cell_type": "code",
   "execution_count": 25,
   "metadata": {},
   "outputs": [],
   "source": [
    "gauge = pygal.Gauge()"
   ]
  },
  {
   "cell_type": "code",
   "execution_count": 26,
   "metadata": {},
   "outputs": [
    {
     "ename": "OSError",
     "evalue": "no library called \"cairo-2\" was found\nno library called \"cairo\" was found\nno library called \"libcairo-2\" was found\ncannot load library 'libcairo.so.2': error 0x7e\ncannot load library 'libcairo.2.dylib': error 0x7e\ncannot load library 'libcairo-2.dll': error 0x7e",
     "output_type": "error",
     "traceback": [
      "\u001b[1;31m---------------------------------------------------------------------------\u001b[0m",
      "\u001b[1;31mOSError\u001b[0m                                   Traceback (most recent call last)",
      "\u001b[1;32mC:\\ProgramData\\Anaconda3\\lib\\site-packages\\IPython\\core\\formatters.py\u001b[0m in \u001b[0;36m__call__\u001b[1;34m(self, obj)\u001b[0m\n\u001b[0;32m    343\u001b[0m             \u001b[0mmethod\u001b[0m \u001b[1;33m=\u001b[0m \u001b[0mget_real_method\u001b[0m\u001b[1;33m(\u001b[0m\u001b[0mobj\u001b[0m\u001b[1;33m,\u001b[0m \u001b[0mself\u001b[0m\u001b[1;33m.\u001b[0m\u001b[0mprint_method\u001b[0m\u001b[1;33m)\u001b[0m\u001b[1;33m\u001b[0m\u001b[1;33m\u001b[0m\u001b[0m\n\u001b[0;32m    344\u001b[0m             \u001b[1;32mif\u001b[0m \u001b[0mmethod\u001b[0m \u001b[1;32mis\u001b[0m \u001b[1;32mnot\u001b[0m \u001b[1;32mNone\u001b[0m\u001b[1;33m:\u001b[0m\u001b[1;33m\u001b[0m\u001b[1;33m\u001b[0m\u001b[0m\n\u001b[1;32m--> 345\u001b[1;33m                 \u001b[1;32mreturn\u001b[0m \u001b[0mmethod\u001b[0m\u001b[1;33m(\u001b[0m\u001b[1;33m)\u001b[0m\u001b[1;33m\u001b[0m\u001b[1;33m\u001b[0m\u001b[0m\n\u001b[0m\u001b[0;32m    346\u001b[0m             \u001b[1;32mreturn\u001b[0m \u001b[1;32mNone\u001b[0m\u001b[1;33m\u001b[0m\u001b[1;33m\u001b[0m\u001b[0m\n\u001b[0;32m    347\u001b[0m         \u001b[1;32melse\u001b[0m\u001b[1;33m:\u001b[0m\u001b[1;33m\u001b[0m\u001b[1;33m\u001b[0m\u001b[0m\n",
      "\u001b[1;32mC:\\ProgramData\\Anaconda3\\lib\\site-packages\\pygal\\graph\\base.py\u001b[0m in \u001b[0;36m_repr_png_\u001b[1;34m(self)\u001b[0m\n\u001b[0;32m    232\u001b[0m     \u001b[1;32mdef\u001b[0m \u001b[0m_repr_png_\u001b[0m\u001b[1;33m(\u001b[0m\u001b[0mself\u001b[0m\u001b[1;33m)\u001b[0m\u001b[1;33m:\u001b[0m\u001b[1;33m\u001b[0m\u001b[1;33m\u001b[0m\u001b[0m\n\u001b[0;32m    233\u001b[0m         \u001b[1;34m\"\"\"Display png in IPython notebook\"\"\"\u001b[0m\u001b[1;33m\u001b[0m\u001b[1;33m\u001b[0m\u001b[0m\n\u001b[1;32m--> 234\u001b[1;33m         \u001b[1;32mreturn\u001b[0m \u001b[0mself\u001b[0m\u001b[1;33m.\u001b[0m\u001b[0mrender_to_png\u001b[0m\u001b[1;33m(\u001b[0m\u001b[1;33m)\u001b[0m\u001b[1;33m\u001b[0m\u001b[1;33m\u001b[0m\u001b[0m\n\u001b[0m",
      "\u001b[1;32mC:\\ProgramData\\Anaconda3\\lib\\site-packages\\pygal\\graph\\public.py\u001b[0m in \u001b[0;36mrender_to_png\u001b[1;34m(self, filename, dpi, **kwargs)\u001b[0m\n\u001b[0;32m    116\u001b[0m     \u001b[1;32mdef\u001b[0m \u001b[0mrender_to_png\u001b[0m\u001b[1;33m(\u001b[0m\u001b[0mself\u001b[0m\u001b[1;33m,\u001b[0m \u001b[0mfilename\u001b[0m\u001b[1;33m=\u001b[0m\u001b[1;32mNone\u001b[0m\u001b[1;33m,\u001b[0m \u001b[0mdpi\u001b[0m\u001b[1;33m=\u001b[0m\u001b[1;36m72\u001b[0m\u001b[1;33m,\u001b[0m \u001b[1;33m**\u001b[0m\u001b[0mkwargs\u001b[0m\u001b[1;33m)\u001b[0m\u001b[1;33m:\u001b[0m\u001b[1;33m\u001b[0m\u001b[1;33m\u001b[0m\u001b[0m\n\u001b[0;32m    117\u001b[0m         \u001b[1;34m\"\"\"Render the graph, convert it to png and write it to filename\"\"\"\u001b[0m\u001b[1;33m\u001b[0m\u001b[1;33m\u001b[0m\u001b[0m\n\u001b[1;32m--> 118\u001b[1;33m         \u001b[1;32mimport\u001b[0m \u001b[0mcairosvg\u001b[0m\u001b[1;33m\u001b[0m\u001b[1;33m\u001b[0m\u001b[0m\n\u001b[0m\u001b[0;32m    119\u001b[0m         return cairosvg.svg2png(\n\u001b[0;32m    120\u001b[0m             bytestring=self.render(**kwargs), write_to=filename, dpi=dpi)\n",
      "\u001b[1;32mC:\\ProgramData\\Anaconda3\\lib\\site-packages\\cairosvg\\__init__.py\u001b[0m in \u001b[0;36m<module>\u001b[1;34m\u001b[0m\n\u001b[0;32m     24\u001b[0m \u001b[1;33m\u001b[0m\u001b[0m\n\u001b[0;32m     25\u001b[0m \u001b[1;31m# VERSION is used in the \"url\" module imported by \"surface\"\u001b[0m\u001b[1;33m\u001b[0m\u001b[1;33m\u001b[0m\u001b[1;33m\u001b[0m\u001b[0m\n\u001b[1;32m---> 26\u001b[1;33m \u001b[1;32mfrom\u001b[0m \u001b[1;33m.\u001b[0m \u001b[1;32mimport\u001b[0m \u001b[0msurface\u001b[0m  \u001b[1;31m# noqa isort:skip\u001b[0m\u001b[1;33m\u001b[0m\u001b[1;33m\u001b[0m\u001b[0m\n\u001b[0m\u001b[0;32m     27\u001b[0m \u001b[1;33m\u001b[0m\u001b[0m\n\u001b[0;32m     28\u001b[0m \u001b[1;33m\u001b[0m\u001b[0m\n",
      "\u001b[1;32mC:\\ProgramData\\Anaconda3\\lib\\site-packages\\cairosvg\\surface.py\u001b[0m in \u001b[0;36m<module>\u001b[1;34m\u001b[0m\n\u001b[0;32m      7\u001b[0m \u001b[1;32mimport\u001b[0m \u001b[0mio\u001b[0m\u001b[1;33m\u001b[0m\u001b[1;33m\u001b[0m\u001b[0m\n\u001b[0;32m      8\u001b[0m \u001b[1;33m\u001b[0m\u001b[0m\n\u001b[1;32m----> 9\u001b[1;33m \u001b[1;32mimport\u001b[0m \u001b[0mcairocffi\u001b[0m \u001b[1;32mas\u001b[0m \u001b[0mcairo\u001b[0m\u001b[1;33m\u001b[0m\u001b[1;33m\u001b[0m\u001b[0m\n\u001b[0m\u001b[0;32m     10\u001b[0m \u001b[1;33m\u001b[0m\u001b[0m\n\u001b[0;32m     11\u001b[0m \u001b[1;32mfrom\u001b[0m \u001b[1;33m.\u001b[0m\u001b[0mcolors\u001b[0m \u001b[1;32mimport\u001b[0m \u001b[0mcolor\u001b[0m\u001b[1;33m,\u001b[0m \u001b[0mnegate_color\u001b[0m\u001b[1;33m\u001b[0m\u001b[1;33m\u001b[0m\u001b[0m\n",
      "\u001b[1;32mC:\\ProgramData\\Anaconda3\\lib\\site-packages\\cairocffi\\__init__.py\u001b[0m in \u001b[0;36m<module>\u001b[1;34m\u001b[0m\n\u001b[0;32m     46\u001b[0m \u001b[1;33m\u001b[0m\u001b[0m\n\u001b[0;32m     47\u001b[0m \u001b[1;33m\u001b[0m\u001b[0m\n\u001b[1;32m---> 48\u001b[1;33m cairo = dlopen(\n\u001b[0m\u001b[0;32m     49\u001b[0m     \u001b[0mffi\u001b[0m\u001b[1;33m,\u001b[0m \u001b[1;33m(\u001b[0m\u001b[1;34m'cairo-2'\u001b[0m\u001b[1;33m,\u001b[0m \u001b[1;34m'cairo'\u001b[0m\u001b[1;33m,\u001b[0m \u001b[1;34m'libcairo-2'\u001b[0m\u001b[1;33m)\u001b[0m\u001b[1;33m,\u001b[0m\u001b[1;33m\u001b[0m\u001b[1;33m\u001b[0m\u001b[0m\n\u001b[0;32m     50\u001b[0m     ('libcairo.so.2', 'libcairo.2.dylib', 'libcairo-2.dll'))\n",
      "\u001b[1;32mC:\\ProgramData\\Anaconda3\\lib\\site-packages\\cairocffi\\__init__.py\u001b[0m in \u001b[0;36mdlopen\u001b[1;34m(ffi, library_names, filenames)\u001b[0m\n\u001b[0;32m     43\u001b[0m     error_message = '\\n'.join(  # pragma: no cover\n\u001b[0;32m     44\u001b[0m         str(exception) for exception in exceptions)\n\u001b[1;32m---> 45\u001b[1;33m     \u001b[1;32mraise\u001b[0m \u001b[0mOSError\u001b[0m\u001b[1;33m(\u001b[0m\u001b[0merror_message\u001b[0m\u001b[1;33m)\u001b[0m  \u001b[1;31m# pragma: no cover\u001b[0m\u001b[1;33m\u001b[0m\u001b[1;33m\u001b[0m\u001b[0m\n\u001b[0m\u001b[0;32m     46\u001b[0m \u001b[1;33m\u001b[0m\u001b[0m\n\u001b[0;32m     47\u001b[0m \u001b[1;33m\u001b[0m\u001b[0m\n",
      "\u001b[1;31mOSError\u001b[0m: no library called \"cairo-2\" was found\nno library called \"cairo\" was found\nno library called \"libcairo-2\" was found\ncannot load library 'libcairo.so.2': error 0x7e\ncannot load library 'libcairo.2.dylib': error 0x7e\ncannot load library 'libcairo-2.dll': error 0x7e"
     ]
    },
    {
     "data": {
      "image/svg+xml": [
       "<svg xmlns=\"http://www.w3.org/2000/svg\" xmlns:xlink=\"http://www.w3.org/1999/xlink\" id=\"chart-b3de0116-060f-48b7-8900-20dcd75ddc68\" class=\"pygal-chart\" viewBox=\"0 0 800 600\"><!--Generated with pygal 2.4.0 (lxml) ©Kozea 2012-2016 on 2021-11-12--><!--http://pygal.org--><!--http://github.com/Kozea/pygal--><defs><style type=\"text/css\">#chart-b3de0116-060f-48b7-8900-20dcd75ddc68{-webkit-user-select:none;-webkit-font-smoothing:antialiased;font-family:Consolas,\"Liberation Mono\",Menlo,Courier,monospace}#chart-b3de0116-060f-48b7-8900-20dcd75ddc68 .title{font-family:Consolas,\"Liberation Mono\",Menlo,Courier,monospace;font-size:16px}#chart-b3de0116-060f-48b7-8900-20dcd75ddc68 .legends .legend text{font-family:Consolas,\"Liberation Mono\",Menlo,Courier,monospace;font-size:14px}#chart-b3de0116-060f-48b7-8900-20dcd75ddc68 .axis text{font-family:Consolas,\"Liberation Mono\",Menlo,Courier,monospace;font-size:10px}#chart-b3de0116-060f-48b7-8900-20dcd75ddc68 .axis text.major{font-family:Consolas,\"Liberation Mono\",Menlo,Courier,monospace;font-size:10px}#chart-b3de0116-060f-48b7-8900-20dcd75ddc68 .text-overlay text.value{font-family:Consolas,\"Liberation Mono\",Menlo,Courier,monospace;font-size:16px}#chart-b3de0116-060f-48b7-8900-20dcd75ddc68 .text-overlay text.label{font-family:Consolas,\"Liberation Mono\",Menlo,Courier,monospace;font-size:10px}#chart-b3de0116-060f-48b7-8900-20dcd75ddc68 .tooltip{font-family:Consolas,\"Liberation Mono\",Menlo,Courier,monospace;font-size:14px}#chart-b3de0116-060f-48b7-8900-20dcd75ddc68 text.no_data{font-family:Consolas,\"Liberation Mono\",Menlo,Courier,monospace;font-size:64px}\n",
       "#chart-b3de0116-060f-48b7-8900-20dcd75ddc68{background-color:rgba(249,249,249,1)}#chart-b3de0116-060f-48b7-8900-20dcd75ddc68 path,#chart-b3de0116-060f-48b7-8900-20dcd75ddc68 line,#chart-b3de0116-060f-48b7-8900-20dcd75ddc68 rect,#chart-b3de0116-060f-48b7-8900-20dcd75ddc68 circle{-webkit-transition:150ms;-moz-transition:150ms;transition:150ms}#chart-b3de0116-060f-48b7-8900-20dcd75ddc68 .graph &gt; .background{fill:rgba(249,249,249,1)}#chart-b3de0116-060f-48b7-8900-20dcd75ddc68 .plot &gt; .background{fill:rgba(255,255,255,1)}#chart-b3de0116-060f-48b7-8900-20dcd75ddc68 .graph{fill:rgba(0,0,0,.87)}#chart-b3de0116-060f-48b7-8900-20dcd75ddc68 text.no_data{fill:rgba(0,0,0,1)}#chart-b3de0116-060f-48b7-8900-20dcd75ddc68 .title{fill:rgba(0,0,0,1)}#chart-b3de0116-060f-48b7-8900-20dcd75ddc68 .legends .legend text{fill:rgba(0,0,0,.87)}#chart-b3de0116-060f-48b7-8900-20dcd75ddc68 .legends .legend:hover text{fill:rgba(0,0,0,1)}#chart-b3de0116-060f-48b7-8900-20dcd75ddc68 .axis .line{stroke:rgba(0,0,0,1)}#chart-b3de0116-060f-48b7-8900-20dcd75ddc68 .axis .guide.line{stroke:rgba(0,0,0,.54)}#chart-b3de0116-060f-48b7-8900-20dcd75ddc68 .axis .major.line{stroke:rgba(0,0,0,.87)}#chart-b3de0116-060f-48b7-8900-20dcd75ddc68 .axis text.major{fill:rgba(0,0,0,1)}#chart-b3de0116-060f-48b7-8900-20dcd75ddc68 .axis.y .guides:hover .guide.line,#chart-b3de0116-060f-48b7-8900-20dcd75ddc68 .line-graph .axis.x .guides:hover .guide.line,#chart-b3de0116-060f-48b7-8900-20dcd75ddc68 .stackedline-graph .axis.x .guides:hover .guide.line,#chart-b3de0116-060f-48b7-8900-20dcd75ddc68 .xy-graph .axis.x .guides:hover .guide.line{stroke:rgba(0,0,0,1)}#chart-b3de0116-060f-48b7-8900-20dcd75ddc68 .axis .guides:hover text{fill:rgba(0,0,0,1)}#chart-b3de0116-060f-48b7-8900-20dcd75ddc68 .reactive{fill-opacity:.7;stroke-opacity:.8}#chart-b3de0116-060f-48b7-8900-20dcd75ddc68 .ci{stroke:rgba(0,0,0,.87)}#chart-b3de0116-060f-48b7-8900-20dcd75ddc68 .reactive.active,#chart-b3de0116-060f-48b7-8900-20dcd75ddc68 .active .reactive{fill-opacity:.8;stroke-opacity:.9;stroke-width:4}#chart-b3de0116-060f-48b7-8900-20dcd75ddc68 .ci .reactive.active{stroke-width:1.5}#chart-b3de0116-060f-48b7-8900-20dcd75ddc68 .series text{fill:rgba(0,0,0,1)}#chart-b3de0116-060f-48b7-8900-20dcd75ddc68 .tooltip rect{fill:rgba(255,255,255,1);stroke:rgba(0,0,0,1);-webkit-transition:opacity 150ms;-moz-transition:opacity 150ms;transition:opacity 150ms}#chart-b3de0116-060f-48b7-8900-20dcd75ddc68 .tooltip .label{fill:rgba(0,0,0,.87)}#chart-b3de0116-060f-48b7-8900-20dcd75ddc68 .tooltip .label{fill:rgba(0,0,0,.87)}#chart-b3de0116-060f-48b7-8900-20dcd75ddc68 .tooltip .legend{font-size:.8em;fill:rgba(0,0,0,.54)}#chart-b3de0116-060f-48b7-8900-20dcd75ddc68 .tooltip .x_label{font-size:.6em;fill:rgba(0,0,0,1)}#chart-b3de0116-060f-48b7-8900-20dcd75ddc68 .tooltip .xlink{font-size:.5em;text-decoration:underline}#chart-b3de0116-060f-48b7-8900-20dcd75ddc68 .tooltip .value{font-size:1.5em}#chart-b3de0116-060f-48b7-8900-20dcd75ddc68 .bound{font-size:.5em}#chart-b3de0116-060f-48b7-8900-20dcd75ddc68 .max-value{font-size:.75em;fill:rgba(0,0,0,.54)}#chart-b3de0116-060f-48b7-8900-20dcd75ddc68 .map-element{fill:rgba(255,255,255,1);stroke:rgba(0,0,0,.54) !important}#chart-b3de0116-060f-48b7-8900-20dcd75ddc68 .map-element .reactive{fill-opacity:inherit;stroke-opacity:inherit}#chart-b3de0116-060f-48b7-8900-20dcd75ddc68 .color-0,#chart-b3de0116-060f-48b7-8900-20dcd75ddc68 .color-0 a:visited{stroke:#F44336;fill:#F44336}#chart-b3de0116-060f-48b7-8900-20dcd75ddc68 .color-1,#chart-b3de0116-060f-48b7-8900-20dcd75ddc68 .color-1 a:visited{stroke:#3F51B5;fill:#3F51B5}#chart-b3de0116-060f-48b7-8900-20dcd75ddc68 .color-2,#chart-b3de0116-060f-48b7-8900-20dcd75ddc68 .color-2 a:visited{stroke:#009688;fill:#009688}#chart-b3de0116-060f-48b7-8900-20dcd75ddc68 .color-3,#chart-b3de0116-060f-48b7-8900-20dcd75ddc68 .color-3 a:visited{stroke:#FFC107;fill:#FFC107}#chart-b3de0116-060f-48b7-8900-20dcd75ddc68 .text-overlay .color-0 text{fill:black}#chart-b3de0116-060f-48b7-8900-20dcd75ddc68 .text-overlay .color-1 text{fill:black}#chart-b3de0116-060f-48b7-8900-20dcd75ddc68 .text-overlay .color-2 text{fill:black}#chart-b3de0116-060f-48b7-8900-20dcd75ddc68 .text-overlay .color-3 text{fill:black}\n",
       "#chart-b3de0116-060f-48b7-8900-20dcd75ddc68 text.no_data{text-anchor:middle}#chart-b3de0116-060f-48b7-8900-20dcd75ddc68 .guide.line{fill:none}#chart-b3de0116-060f-48b7-8900-20dcd75ddc68 .centered{text-anchor:middle}#chart-b3de0116-060f-48b7-8900-20dcd75ddc68 .title{text-anchor:middle}#chart-b3de0116-060f-48b7-8900-20dcd75ddc68 .legends .legend text{fill-opacity:1}#chart-b3de0116-060f-48b7-8900-20dcd75ddc68 .axis.x text{text-anchor:middle}#chart-b3de0116-060f-48b7-8900-20dcd75ddc68 .axis.x:not(.web) text[transform]{text-anchor:start}#chart-b3de0116-060f-48b7-8900-20dcd75ddc68 .axis.x:not(.web) text[transform].backwards{text-anchor:end}#chart-b3de0116-060f-48b7-8900-20dcd75ddc68 .axis.y text{text-anchor:end}#chart-b3de0116-060f-48b7-8900-20dcd75ddc68 .axis.y text[transform].backwards{text-anchor:start}#chart-b3de0116-060f-48b7-8900-20dcd75ddc68 .axis.y2 text{text-anchor:start}#chart-b3de0116-060f-48b7-8900-20dcd75ddc68 .axis.y2 text[transform].backwards{text-anchor:end}#chart-b3de0116-060f-48b7-8900-20dcd75ddc68 .axis .guide.line{stroke-dasharray:4,4}#chart-b3de0116-060f-48b7-8900-20dcd75ddc68 .axis .major.guide.line{stroke-dasharray:6,6}#chart-b3de0116-060f-48b7-8900-20dcd75ddc68 .horizontal .axis.y .guide.line,#chart-b3de0116-060f-48b7-8900-20dcd75ddc68 .horizontal .axis.y2 .guide.line,#chart-b3de0116-060f-48b7-8900-20dcd75ddc68 .vertical .axis.x .guide.line{opacity:0}#chart-b3de0116-060f-48b7-8900-20dcd75ddc68 .horizontal .axis.always_show .guide.line,#chart-b3de0116-060f-48b7-8900-20dcd75ddc68 .vertical .axis.always_show .guide.line{opacity:1 !important}#chart-b3de0116-060f-48b7-8900-20dcd75ddc68 .axis.y .guides:hover .guide.line,#chart-b3de0116-060f-48b7-8900-20dcd75ddc68 .axis.y2 .guides:hover .guide.line,#chart-b3de0116-060f-48b7-8900-20dcd75ddc68 .axis.x .guides:hover .guide.line{opacity:1}#chart-b3de0116-060f-48b7-8900-20dcd75ddc68 .axis .guides:hover text{opacity:1}#chart-b3de0116-060f-48b7-8900-20dcd75ddc68 .nofill{fill:none}#chart-b3de0116-060f-48b7-8900-20dcd75ddc68 .subtle-fill{fill-opacity:.2}#chart-b3de0116-060f-48b7-8900-20dcd75ddc68 .dot{stroke-width:1px;fill-opacity:1}#chart-b3de0116-060f-48b7-8900-20dcd75ddc68 .dot.active{stroke-width:5px}#chart-b3de0116-060f-48b7-8900-20dcd75ddc68 .dot.negative{fill:transparent}#chart-b3de0116-060f-48b7-8900-20dcd75ddc68 text,#chart-b3de0116-060f-48b7-8900-20dcd75ddc68 tspan{stroke:none !important}#chart-b3de0116-060f-48b7-8900-20dcd75ddc68 .series text.active{opacity:1}#chart-b3de0116-060f-48b7-8900-20dcd75ddc68 .tooltip rect{fill-opacity:.95;stroke-width:.5}#chart-b3de0116-060f-48b7-8900-20dcd75ddc68 .tooltip text{fill-opacity:1}#chart-b3de0116-060f-48b7-8900-20dcd75ddc68 .showable{visibility:hidden}#chart-b3de0116-060f-48b7-8900-20dcd75ddc68 .showable.shown{visibility:visible}#chart-b3de0116-060f-48b7-8900-20dcd75ddc68 .gauge-background{fill:rgba(229,229,229,1);stroke:none}#chart-b3de0116-060f-48b7-8900-20dcd75ddc68 .bg-lines{stroke:rgba(249,249,249,1);stroke-width:2px}</style><script type=\"text/javascript\">window.pygal = window.pygal || {};window.pygal.config = window.pygal.config || {};window.pygal.config['b3de0116-060f-48b7-8900-20dcd75ddc68'] = {\"allow_interruptions\": false, \"box_mode\": \"extremes\", \"classes\": [\"pygal-chart\"], \"css\": [\"file://style.css\", \"file://graph.css\"], \"defs\": [], \"disable_xml_declaration\": true, \"dots_size\": 2.5, \"dynamic_print_values\": false, \"explicit_size\": false, \"fill\": false, \"force_uri_protocol\": \"https\", \"formatter\": null, \"half_pie\": false, \"height\": 600, \"include_x_axis\": false, \"inner_radius\": 0, \"interpolate\": null, \"interpolation_parameters\": {}, \"interpolation_precision\": 250, \"inverse_y_axis\": false, \"js\": [\"//kozea.github.io/pygal.js/2.0.x/pygal-tooltips.min.js\"], \"legend_at_bottom\": false, \"legend_at_bottom_columns\": null, \"legend_box_size\": 12, \"logarithmic\": false, \"margin\": 20, \"margin_bottom\": null, \"margin_left\": null, \"margin_right\": null, \"margin_top\": null, \"max_scale\": 16, \"min_scale\": 4, \"missing_value_fill_truncation\": \"x\", \"no_data_text\": \"No data\", \"no_prefix\": false, \"order_min\": null, \"pretty_print\": false, \"print_labels\": false, \"print_values\": false, \"print_values_position\": \"center\", \"print_zeroes\": true, \"range\": null, \"rounded_bars\": null, \"secondary_range\": null, \"show_dots\": true, \"show_legend\": true, \"show_minor_x_labels\": true, \"show_minor_y_labels\": true, \"show_only_major_dots\": false, \"show_x_guides\": false, \"show_x_labels\": true, \"show_y_guides\": true, \"show_y_labels\": true, \"spacing\": 10, \"stack_from_top\": false, \"strict\": false, \"stroke\": true, \"stroke_style\": null, \"style\": {\"background\": \"rgba(249, 249, 249, 1)\", \"ci_colors\": [], \"colors\": [\"#F44336\", \"#3F51B5\", \"#009688\", \"#FFC107\", \"#FF5722\", \"#9C27B0\", \"#03A9F4\", \"#8BC34A\", \"#FF9800\", \"#E91E63\", \"#2196F3\", \"#4CAF50\", \"#FFEB3B\", \"#673AB7\", \"#00BCD4\", \"#CDDC39\", \"#9E9E9E\", \"#607D8B\"], \"font_family\": \"Consolas, \\\"Liberation Mono\\\", Menlo, Courier, monospace\", \"foreground\": \"rgba(0, 0, 0, .87)\", \"foreground_strong\": \"rgba(0, 0, 0, 1)\", \"foreground_subtle\": \"rgba(0, 0, 0, .54)\", \"guide_stroke_dasharray\": \"4,4\", \"label_font_family\": \"Consolas, \\\"Liberation Mono\\\", Menlo, Courier, monospace\", \"label_font_size\": 10, \"legend_font_family\": \"Consolas, \\\"Liberation Mono\\\", Menlo, Courier, monospace\", \"legend_font_size\": 14, \"major_guide_stroke_dasharray\": \"6,6\", \"major_label_font_family\": \"Consolas, \\\"Liberation Mono\\\", Menlo, Courier, monospace\", \"major_label_font_size\": 10, \"no_data_font_family\": \"Consolas, \\\"Liberation Mono\\\", Menlo, Courier, monospace\", \"no_data_font_size\": 64, \"opacity\": \".7\", \"opacity_hover\": \".8\", \"plot_background\": \"rgba(255, 255, 255, 1)\", \"stroke_opacity\": \".8\", \"stroke_opacity_hover\": \".9\", \"title_font_family\": \"Consolas, \\\"Liberation Mono\\\", Menlo, Courier, monospace\", \"title_font_size\": 16, \"tooltip_font_family\": \"Consolas, \\\"Liberation Mono\\\", Menlo, Courier, monospace\", \"tooltip_font_size\": 14, \"transition\": \"150ms\", \"value_background\": \"rgba(229, 229, 229, 1)\", \"value_colors\": [], \"value_font_family\": \"Consolas, \\\"Liberation Mono\\\", Menlo, Courier, monospace\", \"value_font_size\": 16, \"value_label_font_family\": \"Consolas, \\\"Liberation Mono\\\", Menlo, Courier, monospace\", \"value_label_font_size\": 10}, \"title\": \"Revenue By Area\", \"tooltip_border_radius\": 0, \"tooltip_fancy_mode\": true, \"truncate_label\": null, \"truncate_legend\": null, \"width\": 800, \"x_label_rotation\": 0, \"x_labels\": null, \"x_labels_major\": null, \"x_labels_major_count\": null, \"x_labels_major_every\": null, \"x_title\": null, \"xrange\": null, \"y_label_rotation\": 0, \"y_labels\": null, \"y_labels_major\": null, \"y_labels_major_count\": null, \"y_labels_major_every\": null, \"y_title\": null, \"zero\": 0, \"legends\": [\"Asia-Pacific\", \"Europe, Middle East and Africa\", \"Latin America\", \"United States and Canada\"]}</script><script type=\"text/javascript\" xlink:href=\"https://kozea.github.io/pygal.js/2.0.x/pygal-tooltips.min.js\"/></defs><title>Revenue By Area</title><g class=\"graph gauge-graph vertical\"><rect x=\"0\" y=\"0\" width=\"800\" height=\"600\" class=\"background\"/><g transform=\"translate(238, 46)\" class=\"plot\"><rect x=\"0\" y=\"0\" width=\"542.0\" height=\"534\" class=\"background\"/><g class=\"axis x gauge\"><g class=\"guides\"><path d=\"M422.788180 459.665155 L430.777031 469.805427 Z\" class=\"line\"/><path d=\"M271.000000 267.000000 L422.788180 459.665155 Z\" class=\"guide line major\"/><text x=\"414.79932818463084\" y=\"449.52488415090403\">4000000000</text><title>4000000000</title></g><g class=\"guides\"><path d=\"M499.239622 361.432685 L511.252233 366.402827 Z\" class=\"line\"/><path d=\"M271.000000 267.000000 L499.239622 361.432685 Z\" class=\"guide line \"/><text x=\"487.2270099948674\" y=\"356.4625441128415\">6000000000</text><title>6000000000</title></g><g class=\"guides\"><path d=\"M516.896563 238.874366 L529.838487 237.394070 Z\" class=\"line\"/><path d=\"M271.000000 267.000000 L516.896563 238.874366 Z\" class=\"guide line \"/><text x=\"503.9546385784876\" y=\"240.35466286791484\">8000000000</text><title>8000000000</title></g><g class=\"guides\"><path d=\"M471.210578 123.561207 L481.747976 116.011797 Z\" class=\"line\"/><path d=\"M271.000000 267.000000 L471.210578 123.561207 Z\" class=\"guide line \"/><text x=\"460.67317871142393\" y=\"131.1106174431916\">1e+10</text><title>1e+10</title></g><g class=\"guides\"><path d=\"M373.950370 45.197865 L379.368811 33.524068 Z\" class=\"line\"/><path d=\"M271.000000 267.000000 L373.950370 45.197865 Z\" class=\"guide line \"/><text x=\"368.5319295417261\" y=\"56.87166153770062\">1.2e+10</text><title>1.2e+10</title></g><g class=\"guides\"><path d=\"M250.170159 23.970727 L249.073852 11.179713 Z\" class=\"line\"/><path d=\"M271.000000 267.000000 L250.170159 23.970727 Z\" class=\"guide line \"/><text x=\"251.26646639479318\" y=\"36.761741764413216\">1.4e+10</text><title>1.4e+10</title></g><g class=\"guides\"><path d=\"M131.755713 65.347903 L124.427066 54.734635 Z\" class=\"line\"/><path d=\"M271.000000 267.000000 L131.755713 65.347903 Z\" class=\"guide line \"/><text x=\"139.08435926423098\" y=\"75.96117117386677\">1.6e+10</text><title>1.6e+10</title></g><g class=\"guides\"><path d=\"M49.210579 158.670636 L37.537451 152.969090 Z\" class=\"line\"/><path d=\"M271.000000 267.000000 L49.210579 158.670636 Z\" class=\"guide line \"/><text x=\"60.88370621093671\" y=\"164.37218120046282\">1.8e+10</text><title>1.8e+10</title></g><g class=\"guides\"><path d=\"M23.798375 279.899000 L10.787763 280.577895 Z\" class=\"line\"/><path d=\"M271.000000 267.000000 L23.798375 279.899000 Z\" class=\"guide line \"/><text x=\"36.80898658338789\" y=\"279.22010569857355\">2e+10</text><title>2e+10</title></g><g class=\"guides\"><path d=\"M62.065281 397.804584 L51.068717 404.689036 Z\" class=\"line\"/><path d=\"M271.000000 267.000000 L62.065281 397.804584 Z\" class=\"guide line major\"/><text x=\"73.06184542445943\" y=\"390.9201323560703\">2.2e+10</text><title>2.2e+10</title></g></g><g class=\"axis y gauge\"><circle cx=\"271.0\" cy=\"267.0\" r=\"4\"/></g><g class=\"series serie-0 color-0\"><g class=\"dots\"><path d=\"M 381.745192 455.985063 L 261.787215 276.076803 A 0.050000 0.050000 1 0 1 283.584899 263.677659 Z\" class=\"line reactive tooltip-trigger\"/><desc class=\"value\">3468137000</desc><desc class=\"x left top\">368.7163461538462</desc><desc class=\"y left top\">433.7515260652249</desc></g></g><g class=\"series serie-1 color-1\"><g class=\"dots\"><path d=\"M 302.089335 50.939251 L 283.933632 265.450947 A 0.050000 0.050000 1 0 1 259.013017 261.970154 Z\" class=\"line reactive tooltip-trigger\"/><desc class=\"value\">13122785000</desc><desc class=\"x left\">298.43176577764285</desc><desc class=\"y left\">76.35816228832078</desc></g></g><g class=\"series serie-2 color-2\"><g class=\"dots\"><path d=\"M 486.112207 318.991631 L 271.276630 279.833645 A 0.050000 0.050000 1 0 1 277.273386 255.749464 Z\" class=\"line reactive tooltip-trigger\"/><desc class=\"value\">6611952000</desc><desc class=\"x left top\">460.80488826529347</desc><desc class=\"y left top\">312.8749683224619</desc></g></g><g class=\"series serie-3 color-3\"><g class=\"dots\"><path d=\"M 160.254808 455.985063 L 258.415101 263.677659 A 0.050000 0.050000 1 0 1 280.212785 276.076803 Z\" class=\"line reactive tooltip-trigger\"/><desc class=\"value\">23875186000</desc><desc class=\"x top\">173.28365384615387</desc><desc class=\"y top\">433.7515260652249</desc></g></g></g><g class=\"titles\"><text x=\"400.0\" y=\"26\" class=\"title plot_title\">Revenue By Area</text></g><g transform=\"translate(238, 46)\" class=\"plot overlay\"><g class=\"series serie-0 color-0\"/><g class=\"series serie-1 color-1\"/><g class=\"series serie-2 color-2\"/><g class=\"series serie-3 color-3\"/></g><g transform=\"translate(238, 46)\" class=\"plot text-overlay\"><g class=\"series serie-0 color-0\"/><g class=\"series serie-1 color-1\"/><g class=\"series serie-2 color-2\"/><g class=\"series serie-3 color-3\"/></g><g transform=\"translate(238, 46)\" class=\"plot tooltip-overlay\"><g transform=\"translate(0 0)\" style=\"opacity: 0\" class=\"tooltip\"><rect rx=\"0\" ry=\"0\" width=\"0\" height=\"0\" class=\"tooltip-box\"/><g class=\"text\"/></g></g><g transform=\"translate(10, 56)\" class=\"legends\"><g id=\"activate-serie-0\" class=\"legend reactive activate-serie\"><rect x=\"0.0\" y=\"1.0\" width=\"12\" height=\"12\" class=\"color-0 reactive\"/><text x=\"17.0\" y=\"11.2\">Asia-Pacific</text></g><g id=\"activate-serie-1\" class=\"legend reactive activate-serie\"><rect x=\"0.0\" y=\"22.0\" width=\"12\" height=\"12\" class=\"color-1 reactive\"/><text x=\"17.0\" y=\"32.2\">Europe, Middle…</text><title>Europe, Middle East and Africa</title></g><g id=\"activate-serie-2\" class=\"legend reactive activate-serie\"><rect x=\"0.0\" y=\"43.0\" width=\"12\" height=\"12\" class=\"color-2 reactive\"/><text x=\"17.0\" y=\"53.2\">Latin America</text></g><g id=\"activate-serie-3\" class=\"legend reactive activate-serie\"><rect x=\"0.0\" y=\"64.0\" width=\"12\" height=\"12\" class=\"color-3 reactive\"/><text x=\"17.0\" y=\"74.2\">United States …</text><title>United States and Canada</title></g></g><g transform=\"translate(790, 56)\" class=\"legends\"/></g></svg>"
      ],
      "text/plain": [
       "<pygal.graph.gauge.Gauge at 0x178ba51a610>"
      ]
     },
     "execution_count": 26,
     "metadata": {},
     "output_type": "execute_result"
    }
   ],
   "source": [
    "gauge.title = 'Revenue By Area'\n",
    "\n",
    "gauge.add('Asia-Pacific', revenue_Asia)\n",
    "gauge.add('Europe, Middle East and Africa', revenue_Europe_Africa)\n",
    "gauge.add('Latin America',revenue_LatinAmerica)\n",
    "gauge.add('United States and Canada', revenue_USA_Canada)"
   ]
  },
  {
   "cell_type": "markdown",
   "metadata": {},
   "source": [
    "# UPSET: VISUALIZING INTERSECTING SETS "
   ]
  },
  {
   "cell_type": "code",
   "execution_count": 119,
   "metadata": {
    "scrolled": true
   },
   "outputs": [],
   "source": [
    "dataset1 = pd.read_csv('C:/Users/Jordi Morente/Downloads/supermarket_sales.csv')\n",
    "dataset1.dropna(inplace = True)"
   ]
  },
  {
   "cell_type": "code",
   "execution_count": 120,
   "metadata": {},
   "outputs": [
    {
     "data": {
      "text/html": [
       "<div>\n",
       "<style scoped>\n",
       "    .dataframe tbody tr th:only-of-type {\n",
       "        vertical-align: middle;\n",
       "    }\n",
       "\n",
       "    .dataframe tbody tr th {\n",
       "        vertical-align: top;\n",
       "    }\n",
       "\n",
       "    .dataframe thead th {\n",
       "        text-align: right;\n",
       "    }\n",
       "</style>\n",
       "<table border=\"1\" class=\"dataframe\">\n",
       "  <thead>\n",
       "    <tr style=\"text-align: right;\">\n",
       "      <th></th>\n",
       "      <th>Invoice ID</th>\n",
       "      <th>Branch</th>\n",
       "      <th>City</th>\n",
       "      <th>Customer type</th>\n",
       "      <th>Gender</th>\n",
       "      <th>Product line</th>\n",
       "      <th>Unit price</th>\n",
       "      <th>Quantity</th>\n",
       "      <th>Tax 5%</th>\n",
       "      <th>Total</th>\n",
       "      <th>Date</th>\n",
       "      <th>Time</th>\n",
       "      <th>Payment</th>\n",
       "      <th>cogs</th>\n",
       "      <th>gross margin percentage</th>\n",
       "      <th>gross income</th>\n",
       "      <th>Rating</th>\n",
       "    </tr>\n",
       "  </thead>\n",
       "  <tbody>\n",
       "    <tr>\n",
       "      <th>0</th>\n",
       "      <td>750-67-8428</td>\n",
       "      <td>A</td>\n",
       "      <td>Yangon</td>\n",
       "      <td>Member</td>\n",
       "      <td>Female</td>\n",
       "      <td>Health and beauty</td>\n",
       "      <td>74.69</td>\n",
       "      <td>7</td>\n",
       "      <td>26.1415</td>\n",
       "      <td>548.9715</td>\n",
       "      <td>1/5/2019</td>\n",
       "      <td>13:08</td>\n",
       "      <td>Ewallet</td>\n",
       "      <td>522.83</td>\n",
       "      <td>4.761905</td>\n",
       "      <td>26.1415</td>\n",
       "      <td>9.1</td>\n",
       "    </tr>\n",
       "    <tr>\n",
       "      <th>1</th>\n",
       "      <td>226-31-3081</td>\n",
       "      <td>C</td>\n",
       "      <td>Naypyitaw</td>\n",
       "      <td>Normal</td>\n",
       "      <td>Female</td>\n",
       "      <td>Electronic accessories</td>\n",
       "      <td>15.28</td>\n",
       "      <td>5</td>\n",
       "      <td>3.8200</td>\n",
       "      <td>80.2200</td>\n",
       "      <td>3/8/2019</td>\n",
       "      <td>10:29</td>\n",
       "      <td>Cash</td>\n",
       "      <td>76.40</td>\n",
       "      <td>4.761905</td>\n",
       "      <td>3.8200</td>\n",
       "      <td>9.6</td>\n",
       "    </tr>\n",
       "  </tbody>\n",
       "</table>\n",
       "</div>"
      ],
      "text/plain": [
       "    Invoice ID Branch       City Customer type  Gender  \\\n",
       "0  750-67-8428      A     Yangon        Member  Female   \n",
       "1  226-31-3081      C  Naypyitaw        Normal  Female   \n",
       "\n",
       "             Product line  Unit price  Quantity   Tax 5%     Total      Date  \\\n",
       "0       Health and beauty       74.69         7  26.1415  548.9715  1/5/2019   \n",
       "1  Electronic accessories       15.28         5   3.8200   80.2200  3/8/2019   \n",
       "\n",
       "    Time  Payment    cogs  gross margin percentage  gross income  Rating  \n",
       "0  13:08  Ewallet  522.83                 4.761905       26.1415     9.1  \n",
       "1  10:29     Cash   76.40                 4.761905        3.8200     9.6  "
      ]
     },
     "execution_count": 120,
     "metadata": {},
     "output_type": "execute_result"
    }
   ],
   "source": [
    "dataset1[:2]"
   ]
  },
  {
   "cell_type": "code",
   "execution_count": 125,
   "metadata": {},
   "outputs": [
    {
     "data": {
      "text/plain": [
       "array(['Health and beauty', 'Electronic accessories',\n",
       "       'Home and lifestyle', 'Sports and travel', 'Food and beverages',\n",
       "       'Fashion accessories'], dtype=object)"
      ]
     },
     "execution_count": 125,
     "metadata": {},
     "output_type": "execute_result"
    }
   ],
   "source": [
    "dataset1['Product line'].unique()"
   ]
  },
  {
   "cell_type": "code",
   "execution_count": 117,
   "metadata": {},
   "outputs": [],
   "source": [
    "dataset = pd.read_csv('C:/Users/Jordi Morente/Downloads/SampleSuperstore.csv')\n",
    "dataset.dropna(inplace = True)"
   ]
  },
  {
   "cell_type": "code",
   "execution_count": 118,
   "metadata": {},
   "outputs": [
    {
     "data": {
      "text/html": [
       "<div>\n",
       "<style scoped>\n",
       "    .dataframe tbody tr th:only-of-type {\n",
       "        vertical-align: middle;\n",
       "    }\n",
       "\n",
       "    .dataframe tbody tr th {\n",
       "        vertical-align: top;\n",
       "    }\n",
       "\n",
       "    .dataframe thead th {\n",
       "        text-align: right;\n",
       "    }\n",
       "</style>\n",
       "<table border=\"1\" class=\"dataframe\">\n",
       "  <thead>\n",
       "    <tr style=\"text-align: right;\">\n",
       "      <th></th>\n",
       "      <th>Ship Mode</th>\n",
       "      <th>Segment</th>\n",
       "      <th>Country</th>\n",
       "      <th>City</th>\n",
       "      <th>State</th>\n",
       "      <th>Postal Code</th>\n",
       "      <th>Region</th>\n",
       "      <th>Category</th>\n",
       "      <th>Sub-Category</th>\n",
       "      <th>Sales</th>\n",
       "      <th>Quantity</th>\n",
       "      <th>Discount</th>\n",
       "      <th>Profit</th>\n",
       "    </tr>\n",
       "  </thead>\n",
       "  <tbody>\n",
       "    <tr>\n",
       "      <th>0</th>\n",
       "      <td>Second Class</td>\n",
       "      <td>Consumer</td>\n",
       "      <td>United States</td>\n",
       "      <td>Henderson</td>\n",
       "      <td>Kentucky</td>\n",
       "      <td>42420</td>\n",
       "      <td>South</td>\n",
       "      <td>Furniture</td>\n",
       "      <td>Bookcases</td>\n",
       "      <td>261.96</td>\n",
       "      <td>2</td>\n",
       "      <td>0.0</td>\n",
       "      <td>41.9136</td>\n",
       "    </tr>\n",
       "    <tr>\n",
       "      <th>1</th>\n",
       "      <td>Second Class</td>\n",
       "      <td>Consumer</td>\n",
       "      <td>United States</td>\n",
       "      <td>Henderson</td>\n",
       "      <td>Kentucky</td>\n",
       "      <td>42420</td>\n",
       "      <td>South</td>\n",
       "      <td>Furniture</td>\n",
       "      <td>Chairs</td>\n",
       "      <td>731.94</td>\n",
       "      <td>3</td>\n",
       "      <td>0.0</td>\n",
       "      <td>219.5820</td>\n",
       "    </tr>\n",
       "  </tbody>\n",
       "</table>\n",
       "</div>"
      ],
      "text/plain": [
       "      Ship Mode   Segment        Country       City     State  Postal Code  \\\n",
       "0  Second Class  Consumer  United States  Henderson  Kentucky        42420   \n",
       "1  Second Class  Consumer  United States  Henderson  Kentucky        42420   \n",
       "\n",
       "  Region   Category Sub-Category   Sales  Quantity  Discount    Profit  \n",
       "0  South  Furniture    Bookcases  261.96         2       0.0   41.9136  \n",
       "1  South  Furniture       Chairs  731.94         3       0.0  219.5820  "
      ]
     },
     "execution_count": 118,
     "metadata": {},
     "output_type": "execute_result"
    }
   ],
   "source": [
    "dataset[:2]"
   ]
  },
  {
   "cell_type": "code",
   "execution_count": 128,
   "metadata": {},
   "outputs": [],
   "source": [
    "dataset = pd.read_csv('C:/Users/Jordi Morente/Downloads/imdb_top_1000.csv')\n",
    "dataset.dropna(inplace = True)"
   ]
  },
  {
   "cell_type": "code",
   "execution_count": 131,
   "metadata": {
    "scrolled": true
   },
   "outputs": [
    {
     "data": {
      "text/plain": [
       "array(['Drama', 'Crime, Drama', 'Action, Crime, Drama', 'Crime, Drama',\n",
       "       'Crime, Drama', 'Action, Adventure, Drama', 'Crime, Drama',\n",
       "       'Biography, Drama, History', 'Action, Adventure, Sci-Fi', 'Drama',\n",
       "       'Action, Adventure, Drama', 'Drama, Romance', 'Western',\n",
       "       'Action, Adventure, Drama', 'Action, Sci-Fi',\n",
       "       'Biography, Crime, Drama', 'Action, Adventure, Fantasy', 'Drama',\n",
       "       'Comedy, Drama, Thriller', 'Adventure, Drama, Sci-Fi',\n",
       "       'Crime, Drama', 'Animation, Adventure, Family', 'Drama, War',\n",
       "       'Crime, Drama, Fantasy', 'Comedy, Drama, Romance',\n",
       "       'Crime, Drama, Mystery', 'Crime, Drama, Thriller',\n",
       "       'Action, Adventure, Fantasy', 'Action, Adventure, Drama',\n",
       "       'Crime, Drama, Thriller', 'Drama, Music',\n",
       "       'Biography, Comedy, Drama', 'Drama, Mystery, Sci-Fi',\n",
       "       'Crime, Drama, Thriller', 'Biography, Drama, Music',\n",
       "       'Action, Adventure, Drama', 'Drama', 'Crime, Mystery, Thriller',\n",
       "       'Action, Crime, Drama', 'Animation, Adventure, Drama',\n",
       "       'Action, Sci-Fi', 'Drama, Romance', 'Adventure, Comedy, Sci-Fi',\n",
       "       'Western', 'Horror, Mystery, Thriller', 'Drama, Romance, War',\n",
       "       'Comedy, Drama, Family', 'Comedy, Drama, Romance', 'Drama',\n",
       "       'Animation, Drama, Fantasy', 'Animation, Action, Adventure',\n",
       "       'Action, Adventure, Drama', 'Action, Adventure, Sci-Fi',\n",
       "       'Animation, Adventure, Family', 'Drama, Western',\n",
       "       'Action, Adventure', 'Comedy, Drama',\n",
       "       'Animation, Adventure, Family', 'Drama, Mystery, Thriller',\n",
       "       'Action, Drama, Mystery', 'Mystery, Thriller',\n",
       "       'Animation, Action, Adventure', 'Action, Adventure',\n",
       "       'Drama, Horror', 'Drama, Mystery, War', 'Horror, Sci-Fi', 'Comedy',\n",
       "       'Mystery, Thriller', 'Drama, Thriller, War', 'Drama', 'Drama',\n",
       "       'Drama, Mystery, War', 'Adventure, Drama, War',\n",
       "       'Drama, Romance, Sci-Fi', 'Comedy, Romance', 'Comedy, Crime',\n",
       "       'Drama', 'Drama', 'Drama, Romance', 'Drama, Family, Sport',\n",
       "       'Animation, Adventure, Comedy', 'Biography, Drama, History',\n",
       "       'Crime, Drama, Thriller', 'Drama, War',\n",
       "       'Action, Adventure, Sci-Fi', 'Biography, Drama, History',\n",
       "       'Crime, Drama', 'Action, Adventure, Fantasy',\n",
       "       'Adventure, Drama, Thriller', 'Crime, Drama',\n",
       "       'Comedy, Crime, Drama', 'Crime, Drama, Sci-Fi',\n",
       "       'Adventure, Sci-Fi', 'Western', 'Adventure, Biography, Drama',\n",
       "       'Comedy, Drama, Romance', 'Adventure, Mystery, Thriller',\n",
       "       'Mystery, Romance, Thriller', 'Comedy, Musical, Romance',\n",
       "       'Crime, Drama, Film-Noir', 'Drama, Mystery',\n",
       "       'Biography, Comedy, Drama', 'Comedy, Crime, Drama',\n",
       "       'Drama, Mystery, Romance', 'Action, Drama, Sport',\n",
       "       'Mystery, Thriller', 'Animation, Adventure, Comedy',\n",
       "       'Biography, Crime, Drama', 'Drama, Family, Sport', 'Drama',\n",
       "       'Drama, Fantasy, War', 'Animation, Adventure, Comedy',\n",
       "       'Action, Drama, Sci-Fi', 'Action, Adventure',\n",
       "       'Biography, Drama, History', 'Animation, Adventure, Family',\n",
       "       'Biography, Drama', 'Action, Comedy, Crime',\n",
       "       'Crime, Drama, Mystery', 'Crime, Drama, Thriller', 'Crime, Drama',\n",
       "       'Drama, Western', 'Action, Adventure',\n",
       "       'Animation, Family, Fantasy', 'Action, Thriller',\n",
       "       'Action, Drama, War', 'Biography, Drama, Sport',\n",
       "       'Adventure, Comedy, Fantasy', 'Adventure, Drama, History',\n",
       "       'Comedy, Music, Romance', 'Crime, Thriller', 'Drama',\n",
       "       'Adventure, Drama, Western', 'Drama, Romance',\n",
       "       'Drama, Romance, Thriller', 'Drama', 'Action, Drama, Sci-Fi',\n",
       "       'Drama, Thriller', 'Comedy, Drama, Thriller',\n",
       "       'Adventure, Comedy, Crime', 'Drama, Mystery, Thriller',\n",
       "       'Biography, Drama, History', 'Animation, Adventure, Comedy',\n",
       "       'Biography, Drama, History', 'Action, Biography, Drama',\n",
       "       'Action, Biography, Drama', 'Biography, Crime, Drama',\n",
       "       'Animation, Adventure, Drama', 'Crime, Drama, Mystery',\n",
       "       'Action, Adventure, Sci-Fi', 'Drama', 'Adventure, Drama, Fantasy',\n",
       "       'Drama, Music', 'Animation, Action, Adventure',\n",
       "       'Adventure, Biography, Drama', 'Crime, Drama, Thriller',\n",
       "       'Drama, Sport', 'Biography, Drama, History', 'Action, Drama, War',\n",
       "       'Drama, Romance', 'Crime, Drama, Mystery', 'Action, Crime, Drama',\n",
       "       'Animation, Adventure, Comedy', 'Biography, Crime, Drama',\n",
       "       'Drama, Thriller', 'Animation, Adventure, Comedy',\n",
       "       'Adventure, Drama, Musical', 'Drama, Mystery, Thriller',\n",
       "       'Drama, Music, Romance', 'Comedy, Drama', 'Comedy, Crime, Romance',\n",
       "       'Comedy, Crime, Sport', 'Drama, Romance', 'Drama',\n",
       "       'Crime, Drama, Thriller', 'Drama, Romance',\n",
       "       'Drama, Mystery, Romance', 'Comedy, Crime, Drama',\n",
       "       'Action, Adventure, Sci-Fi', 'Biography, Crime, Drama',\n",
       "       'Comedy, Drama', 'Adventure, Drama', 'Drama, War', 'Drama',\n",
       "       'Animation, Adventure, Fantasy', 'Horror, Mystery, Sci-Fi',\n",
       "       'Drama, Fantasy, Music', 'Drama', 'Action, Sci-Fi, Thriller',\n",
       "       'Comedy', 'Drama, War', 'Drama, Sport', 'Drama, Mystery, Thriller',\n",
       "       'Comedy, Crime, Drama', 'Crime, Drama', 'Drama, Horror, Thriller',\n",
       "       'Adventure, Drama, History', 'Adventure, Drama, War',\n",
       "       'Crime, Drama, Thriller', 'Drama, Film-Noir',\n",
       "       'Film-Noir, Mystery, Thriller', 'Drama, Mystery, Romance',\n",
       "       'Comedy, Drama', 'Drama, History, Romance', 'Comedy, Romance',\n",
       "       'Comedy, Drama, Music', 'Biography, Drama',\n",
       "       'Adventure, Drama, Sci-Fi', 'Animation, Adventure, Comedy',\n",
       "       'Animation, Adventure, Drama', 'Drama, Family',\n",
       "       'Drama, Music, Romance', 'Drama', 'Action, Crime, Thriller',\n",
       "       'Biography, Drama, Thriller', 'Action, Adventure, Comedy',\n",
       "       'Action, Drama, Mystery', 'Drama, Romance, Sci-Fi',\n",
       "       'Biography, Drama, Music', 'Action, Adventure, Drama',\n",
       "       'Drama, Romance', 'Biography, Drama, History', 'Drama',\n",
       "       'Action, Adventure, Comedy', 'Drama, Mystery', 'Drama',\n",
       "       'Drama, Romance', 'Drama, Thriller', 'Action, Crime, Drama',\n",
       "       'Action, Adventure, Sci-Fi', 'Animation, Biography, Drama',\n",
       "       'Biography, Drama', 'Biography, Drama',\n",
       "       'Adventure, Drama, Thriller', 'Action, Mystery, Thriller',\n",
       "       'Crime, Drama, Romance', 'Crime, Thriller', 'Biography, Drama',\n",
       "       'Animation, Adventure, Comedy', 'Action, Adventure, Thriller',\n",
       "       'Action, Crime, Thriller', 'Drama, Romance', 'Biography, Drama',\n",
       "       'Biography, Drama, History', 'Comedy, Drama, Musical',\n",
       "       'Action, Crime, Drama', 'Action, Adventure, Fantasy',\n",
       "       'Adventure, Drama, Fantasy', 'Animation, Action, Adventure',\n",
       "       'Crime, Drama', 'Drama, Mystery, Sci-Fi', 'Drama',\n",
       "       'Crime, Drama, Musical', 'Biography, Drama', 'Drama', 'Drama',\n",
       "       'Animation, Action, Adventure', 'Drama', 'Comedy, Drama',\n",
       "       'Mystery, Sci-Fi, Thriller', 'Animation, Action, Crime',\n",
       "       'Animation, Family, Fantasy', 'Comedy, Fantasy, Romance',\n",
       "       'Crime, Drama', 'Drama', 'Animation, Adventure, Comedy',\n",
       "       'Drama, History, Thriller', 'Animation, Family, Fantasy',\n",
       "       'Adventure, Drama, Western', 'Comedy, Drama', 'Drama',\n",
       "       'Adventure, Family, Fantasy', 'Drama, Fantasy, Romance',\n",
       "       'Drama, War', 'Action, Sci-Fi', 'Biography, Drama, History',\n",
       "       'Comedy, Drama', 'Comedy, Romance', 'Adventure, Thriller',\n",
       "       'Biography, Crime, Drama', 'Comedy', 'Biography, Crime, Drama',\n",
       "       'Horror', 'Drama, Romance', 'Drama, Family, Musical', 'Drama',\n",
       "       'Biography, Crime, Drama', 'Adventure, Sci-Fi',\n",
       "       'Comedy, Drama, Romance', 'Biography, Drama, Family',\n",
       "       'Drama, Romance, War', 'Action, Drama, Western', 'Drama, Sport',\n",
       "       'Comedy, Drama', 'Action, Drama, Western',\n",
       "       'Crime, Drama, Film-Noir', 'Drama', 'Drama', 'Drama, Romance, War',\n",
       "       'Drama, History', 'Adventure, Family, Fantasy', 'Drama, War',\n",
       "       'Comedy, Crime, Drama', 'Crime, Drama', 'Comedy, Drama, Romance',\n",
       "       'Drama, Romance', 'Drama', 'Animation, Adventure, Comedy',\n",
       "       'Adventure, Comedy, Drama', 'Comedy, Drama',\n",
       "       'Comedy, Drama, Music', 'Action, Adventure, Comedy',\n",
       "       'Crime, Drama, Thriller', 'Comedy, Drama, War', 'Drama, Sci-Fi',\n",
       "       'Action, Adventure, Sci-Fi', 'Drama, Romance',\n",
       "       'Action, Adventure, Sci-Fi', 'Comedy, Drama, Romance',\n",
       "       'Action, Adventure, Sci-Fi', 'Drama, Romance',\n",
       "       'Biography, Crime, Drama', 'Crime, Drama',\n",
       "       'Drama, Mystery, Sci-Fi', 'Crime, Drama, Fantasy',\n",
       "       'Action, Sci-Fi, Thriller', 'Drama, Sport', 'Drama',\n",
       "       'Action, Adventure, Sci-Fi', 'Comedy, Crime, Drama',\n",
       "       'Action, Adventure, Drama', 'Adventure, Drama, Fantasy',\n",
       "       'Adventure, Drama, Fantasy', 'Animation, Adventure, Comedy',\n",
       "       'Drama, Music', 'Action, Adventure, Sci-Fi', 'Comedy, Horror',\n",
       "       'Crime, Drama, Mystery', 'Adventure, Family, Fantasy',\n",
       "       'Action, Adventure, History', 'Drama, Mystery, Romance',\n",
       "       'Comedy, Drama, War', 'Animation, Action, Crime',\n",
       "       'Action, Mystery, Thriller', 'Crime, Drama, Thriller',\n",
       "       'Adventure, Drama, Sci-Fi', 'Adventure, Comedy, Drama',\n",
       "       'Drama, Mystery, Thriller', 'Animation, Adventure, Comedy',\n",
       "       'Drama', 'Crime, Drama', 'Crime, Drama, Romance',\n",
       "       'Drama, Music, Mystery', 'Crime, Drama, Thriller',\n",
       "       'Drama, Fantasy, Romance', 'Biography, Drama', 'Comedy, Drama',\n",
       "       'Crime, Drama, Thriller', 'Comedy, Drama', 'Drama, Sci-Fi',\n",
       "       'Comedy, Music', 'Comedy, Family', 'Action, Adventure, Comedy',\n",
       "       'Comedy, Drama, Romance', 'Drama, Music, Musical',\n",
       "       'Action, Adventure, Horror', 'Biography, Drama, History',\n",
       "       'Adventure, Drama, Fantasy', 'Comedy', 'Biography, Drama, War',\n",
       "       'Action, Adventure, Western', 'Crime, Drama, Mystery',\n",
       "       'Comedy, Mystery, Romance', 'Adventure, Biography, Drama',\n",
       "       'Drama, Thriller, Western', 'Crime, Film-Noir, Thriller',\n",
       "       'Drama, Film-Noir, Romance', 'Action, Adventure, Romance',\n",
       "       'Adventure, Horror, Sci-Fi', 'Drama', 'Action, Drama, History',\n",
       "       'Biography, Drama, History', 'Adventure, Comedy, Family',\n",
       "       'Animation, Action, Adventure', 'Drama', 'Drama, History, War',\n",
       "       'Action, Adventure, Sci-Fi', 'Action, Adventure, Sci-Fi',\n",
       "       'Crime, Drama, Mystery', 'Drama, Romance',\n",
       "       'Animation, Biography, Crime', 'Drama, Mystery', 'Drama, Romance',\n",
       "       'Animation, Action, Adventure', 'Comedy, Drama, Fantasy',\n",
       "       'Animation, Biography, Drama', 'Animation, Adventure, Comedy',\n",
       "       'Crime, Drama, Mystery', 'Comedy, Drama, Romance',\n",
       "       'Animation, Action, Adventure', 'Biography, Comedy, Drama',\n",
       "       'Crime, Drama, Mystery', 'Adventure, Biography, Crime',\n",
       "       'Biography, Drama, History', 'Crime, Drama, Mystery',\n",
       "       'Adventure, Fantasy', 'Drama, History, Mystery',\n",
       "       'Crime, Drama, Mystery', 'Biography, Drama, Sport',\n",
       "       'Action, Thriller', 'Drama, History, War', 'Drama, Music, Romance',\n",
       "       'Adventure, Fantasy', 'Drama, Mystery, Romance', 'Crime, Drama',\n",
       "       'Biography, Crime, Drama', 'Action, Adventure, Fantasy',\n",
       "       'Drama, Fantasy, Romance', 'Action, Adventure, Drama',\n",
       "       'Comedy, Drama', 'Action, Comedy, Mystery',\n",
       "       'Drama, Fantasy, Romance', 'Drama, Family, Musical',\n",
       "       'Comedy, Crime, Drama', 'Drama, Romance',\n",
       "       'Biography, Drama, Sport', 'Animation, Adventure, Comedy',\n",
       "       'Action, Adventure, Sci-Fi', 'Biography, Drama, Music',\n",
       "       'Drama, Romance', 'Adventure, Biography, Drama', 'Crime, Drama',\n",
       "       'Animation, Comedy, Drama', 'Action, Adventure, Drama',\n",
       "       'Animation, Drama, Fantasy', 'Biography, Drama, Sport',\n",
       "       'Action, Adventure, Fantasy', 'Drama', 'Adventure, Drama, Romance',\n",
       "       'Action, Crime, Thriller', 'Biography, Drama, Thriller',\n",
       "       'Biography, Drama, Family', 'Animation, Adventure, Comedy',\n",
       "       'Drama, Romance', 'Drama, Sci-Fi, Thriller',\n",
       "       'Action, Drama, Mystery', 'Drama', 'Biography, Comedy, Drama',\n",
       "       'Drama', 'Action, Biography, Drama', 'Comedy, Drama, Family',\n",
       "       'Drama, Romance', 'Action, Crime, Drama', 'Crime, Drama, Romance',\n",
       "       'Comedy, Drama', 'Drama, Fantasy, Music', 'Crime, Drama',\n",
       "       'Drama, Thriller', 'Biography, Drama', 'Biography, Drama, History',\n",
       "       'Adventure, Comedy, Sci-Fi', 'Crime, Drama, History',\n",
       "       'Action, Adventure, Sci-Fi', 'Action, Comedy, Fantasy', 'Comedy',\n",
       "       'Comedy, Crime, Drama', 'Adventure, Comedy, Family', 'Drama',\n",
       "       'Comedy, Drama', 'Biography, Drama, History',\n",
       "       'Action, Comedy, Fantasy', 'Adventure, Biography, Drama',\n",
       "       'Comedy, Crime, Drama', 'Family, Sci-Fi', 'Drama', 'Western',\n",
       "       'Drama, Mystery, Thriller', 'Animation, Sci-Fi',\n",
       "       'Crime, Drama, Thriller', 'Drama, Music, Musical',\n",
       "       'Family, Fantasy, Musical', 'Drama', 'Drama, Family, Musical',\n",
       "       'Comedy, Family, Fantasy', 'Action, Drama, History', 'Horror',\n",
       "       'Action, Adventure, Comedy', 'Crime, Drama, Mystery',\n",
       "       'Horror, Mystery, Thriller', 'Action, Adventure, Thriller',\n",
       "       'Comedy, Drama, Romance', 'Comedy, Horror',\n",
       "       'Animation, Drama, Family', 'Biography, Drama, Romance',\n",
       "       'Action, Adventure, Comedy', 'Drama, Romance', 'Comedy, Drama',\n",
       "       'Comedy, Drama', 'Drama, Romance', 'Drama, Sport',\n",
       "       'Action, Adventure, Sci-Fi', 'Adventure, Comedy, Drama',\n",
       "       'Animation, Adventure, Comedy', 'Animation, Adventure, Drama',\n",
       "       'Comedy, Fantasy, Romance', 'Animation, Action, Adventure',\n",
       "       'Drama, Sci-Fi, Thriller', 'Action, Adventure, Sci-Fi',\n",
       "       'Biography, Drama', 'Action, Adventure, Sci-Fi', 'Comedy',\n",
       "       'Action, Adventure, Thriller', 'Comedy, Drama, Romance',\n",
       "       'Biography, Drama, Thriller', 'Comedy, Drama, Romance',\n",
       "       'Adventure, Family, Fantasy', 'Animation, Adventure, Comedy',\n",
       "       'Biography, Drama, History', 'Animation, Drama, Fantasy',\n",
       "       'Biography, Crime, Drama', 'Comedy, Drama, Romance',\n",
       "       'Drama, Sci-Fi, Thriller', 'Drama', 'Biography, Drama, History',\n",
       "       'Crime, Drama, Mystery', 'Action, Crime, Drama',\n",
       "       'Drama, History, Music', 'Biography, Drama, Music',\n",
       "       'Animation, Adventure, Comedy', 'Drama, Thriller, War',\n",
       "       'Drama, Romance', 'Action, Crime, Drama', 'Crime, Drama, Thriller',\n",
       "       'Action, Comedy, Fantasy', 'Action, Mystery, Thriller',\n",
       "       'Drama, Thriller', 'Biography, Drama, Music', 'Comedy, Drama',\n",
       "       'Adventure, Family, Fantasy', 'Action, Crime, Drama',\n",
       "       'Animation, Drama, Family', 'Action, Drama', 'Drama',\n",
       "       'Comedy, Drama, Romance', 'Drama', 'Drama', 'Comedy, Drama',\n",
       "       'Drama, History, War', 'Crime, Drama, Thriller', 'Drama, Thriller',\n",
       "       'Drama, Music', 'Comedy, Drama, Music', 'Crime, Thriller',\n",
       "       'Animation, Action, Fantasy', 'Adventure, Comedy, Crime',\n",
       "       'Animation, Comedy, Fantasy', 'Comedy', 'Crime, Drama, Thriller',\n",
       "       'Comedy, Drama, Romance', 'Comedy, Drama, Fantasy',\n",
       "       'Comedy, Drama, Romance', 'Action, Adventure, Sci-Fi', 'Comedy',\n",
       "       'Biography, Crime, Drama', 'Biography, Drama, Music',\n",
       "       'Crime, Drama, Mystery', 'Drama, Family, Fantasy',\n",
       "       'Biography, Comedy, Drama', 'Comedy', 'Comedy, Drama', 'Drama',\n",
       "       'Comedy, Drama, Family', 'Biography, Drama, History',\n",
       "       'Action, Adventure, Drama', 'Crime, Drama, Mystery',\n",
       "       'Drama, Thriller', 'Drama', 'Comedy, Drama, Thriller',\n",
       "       'Crime, Drama, Thriller', 'Animation, Adventure, Comedy',\n",
       "       'Comedy, Drama', 'Biography, Drama, History',\n",
       "       'Action, Drama, History', 'Crime, Drama, Mystery',\n",
       "       'Drama, Mystery, Thriller', 'Comedy, Fantasy, Romance',\n",
       "       'Comedy, Crime, Drama', 'Drama', 'Action, Adventure, Sci-Fi',\n",
       "       'Action, Adventure', 'Drama', 'Comedy', 'Horror, Thriller',\n",
       "       'Drama, Thriller', 'Comedy, Western', 'Biography, Crime, Drama',\n",
       "       'Action, Crime, Drama', 'Adventure, Drama, Thriller',\n",
       "       'Action, Crime, Drama', 'Action, Crime, Thriller', 'Comedy',\n",
       "       'Biography, Drama, History', 'Action, Adventure, Thriller',\n",
       "       'Drama, Horror, Mystery', 'Action, Adventure, Western',\n",
       "       'Adventure, Drama, Romance', 'Animation, Family, Fantasy',\n",
       "       'Drama, Mystery, Thriller', 'Comedy, Drama', 'Drama', 'Drama',\n",
       "       'Drama', 'Adventure, Comedy, Drama', 'Drama',\n",
       "       'Action, Adventure, Comedy', 'Action, Crime, Drama',\n",
       "       'Action, Biography, Drama', 'Drama, History, Thriller',\n",
       "       'Animation, Action, Adventure', 'Animation, Adventure, Comedy',\n",
       "       'Action, Crime, Drama', 'Drama, Sport', 'Crime, Drama',\n",
       "       'Action, Crime, Drama', 'Biography, Comedy, Drama',\n",
       "       'Action, Adventure, Drama', 'Action, Thriller',\n",
       "       'Action, Crime, Drama', 'Animation, Adventure, Family',\n",
       "       'Drama, Music, Romance', 'Drama, Western', 'Drama, Romance',\n",
       "       'Animation, Comedy, Crime', 'Comedy, Drama, Romance',\n",
       "       'Action, Comedy, Crime', 'Biography, Drama, Sport',\n",
       "       'Drama, Horror, Thriller', 'Adventure, Comedy, Fantasy',\n",
       "       'Action, Adventure, Mystery', 'Biography, Drama, Sport', 'Drama',\n",
       "       'Drama', 'Action, Crime, Drama', 'Adventure, Family, Fantasy',\n",
       "       'Crime, Drama, Mystery', 'Crime, Drama, Mystery',\n",
       "       'Biography, Drama, Music', 'Action, Biography, Drama',\n",
       "       'Drama, Fantasy, Mystery', 'Action, Adventure, Family',\n",
       "       'Action, Drama', 'Drama, Romance, Thriller',\n",
       "       'Action, Drama, Mystery', 'Action, Crime, Drama',\n",
       "       'Horror, Mystery, Thriller', 'Drama', 'Drama',\n",
       "       'Comedy, Drama, Romance', 'Drama, Mystery, Romance',\n",
       "       'Comedy, Drama', 'Crime, Drama, Thriller',\n",
       "       'Crime, Drama, Thriller', 'Biography, Drama, Family', 'Drama',\n",
       "       'Drama, Sci-Fi, Thriller', 'Drama, Horror, Sci-Fi',\n",
       "       'Comedy, Drama', 'Drama', 'Adventure, Family, Fantasy',\n",
       "       'Horror, Mystery, Thriller', 'Biography, Crime, Drama',\n",
       "       'Drama, History, War', 'Action, Crime, Mystery',\n",
       "       'Biography, Drama, Sport', 'Comedy, Crime, Drama',\n",
       "       'Crime, Drama, Thriller', 'Drama, War',\n",
       "       'Animation, Adventure, Family', 'Adventure, Comedy, Drama',\n",
       "       'Mystery, Sci-Fi, Thriller', 'Crime, Drama, Thriller',\n",
       "       'Mystery, Thriller', 'Drama, Romance',\n",
       "       'Action, Adventure, Thriller', 'Adventure, Drama, Fantasy',\n",
       "       'Drama, Romance', 'Adventure, Drama, History',\n",
       "       'Comedy, Drama, Romance', 'Action, Crime, Drama', 'Comedy',\n",
       "       'Comedy, Crime', 'Animation, Drama, Romance', 'Comedy, Crime',\n",
       "       'Comedy, Family', 'Crime, Drama', 'Comedy, Drama, Romance',\n",
       "       'Animation, Family, Fantasy', 'Comedy, Crime', 'Comedy, Drama',\n",
       "       'Action, Crime, Thriller', 'Crime, Drama, Thriller', 'Drama',\n",
       "       'Action, Adventure, Sci-Fi', 'Action, Crime, Thriller',\n",
       "       'Adventure, Comedy, Family', 'Action, Biography, Crime',\n",
       "       'Biography, Crime, Drama', 'Drama, Sci-Fi', 'Comedy, Crime, Drama',\n",
       "       'Drama, War, Western', 'Adventure, Comedy, War',\n",
       "       'Animation, Adventure, Family', 'Comedy, Music, Musical',\n",
       "       'Drama, Romance, War'], dtype=object)"
      ]
     },
     "execution_count": 131,
     "metadata": {},
     "output_type": "execute_result"
    }
   ],
   "source": [
    "dataset['Genre'].values"
   ]
  },
  {
   "cell_type": "code",
   "execution_count": 129,
   "metadata": {},
   "outputs": [
    {
     "data": {
      "text/plain": [
       "Drama                         58\n",
       "Drama, Romance                26\n",
       "Comedy, Drama                 24\n",
       "Crime, Drama, Thriller        22\n",
       "Action, Adventure, Sci-Fi     21\n",
       "                              ..\n",
       "Action, Adventure, Mystery     1\n",
       "Comedy, Mystery, Romance       1\n",
       "Action, Biography, Crime       1\n",
       "Horror, Thriller               1\n",
       "Comedy, Drama, Musical         1\n",
       "Name: Genre, Length: 172, dtype: int64"
      ]
     },
     "execution_count": 129,
     "metadata": {},
     "output_type": "execute_result"
    }
   ],
   "source": [
    "dataset['Genre'].value_counts()"
   ]
  },
  {
   "cell_type": "code",
   "execution_count": 108,
   "metadata": {},
   "outputs": [],
   "source": [
    "dataset['Genres'] = dataset['Genre'].str.split(\", \")"
   ]
  },
  {
   "cell_type": "code",
   "execution_count": 109,
   "metadata": {
    "scrolled": false
   },
   "outputs": [
    {
     "data": {
      "text/html": [
       "<div>\n",
       "<style scoped>\n",
       "    .dataframe tbody tr th:only-of-type {\n",
       "        vertical-align: middle;\n",
       "    }\n",
       "\n",
       "    .dataframe tbody tr th {\n",
       "        vertical-align: top;\n",
       "    }\n",
       "\n",
       "    .dataframe thead th {\n",
       "        text-align: right;\n",
       "    }\n",
       "</style>\n",
       "<table border=\"1\" class=\"dataframe\">\n",
       "  <thead>\n",
       "    <tr style=\"text-align: right;\">\n",
       "      <th></th>\n",
       "      <th>Poster_Link</th>\n",
       "      <th>Series_Title</th>\n",
       "      <th>Released_Year</th>\n",
       "      <th>Certificate</th>\n",
       "      <th>Runtime</th>\n",
       "      <th>Genre</th>\n",
       "      <th>IMDB_Rating</th>\n",
       "      <th>Overview</th>\n",
       "      <th>Meta_score</th>\n",
       "      <th>Director</th>\n",
       "      <th>Star1</th>\n",
       "      <th>Star2</th>\n",
       "      <th>Star3</th>\n",
       "      <th>Star4</th>\n",
       "      <th>No_of_Votes</th>\n",
       "      <th>Gross</th>\n",
       "      <th>Genres</th>\n",
       "    </tr>\n",
       "  </thead>\n",
       "  <tbody>\n",
       "    <tr>\n",
       "      <th>0</th>\n",
       "      <td>https://m.media-amazon.com/images/M/MV5BMDFkYT...</td>\n",
       "      <td>The Shawshank Redemption</td>\n",
       "      <td>1994</td>\n",
       "      <td>A</td>\n",
       "      <td>142 min</td>\n",
       "      <td>Drama</td>\n",
       "      <td>9.3</td>\n",
       "      <td>Two imprisoned men bond over a number of years...</td>\n",
       "      <td>80.0</td>\n",
       "      <td>Frank Darabont</td>\n",
       "      <td>Tim Robbins</td>\n",
       "      <td>Morgan Freeman</td>\n",
       "      <td>Bob Gunton</td>\n",
       "      <td>William Sadler</td>\n",
       "      <td>2343110</td>\n",
       "      <td>28,341,469</td>\n",
       "      <td>[Drama]</td>\n",
       "    </tr>\n",
       "    <tr>\n",
       "      <th>1</th>\n",
       "      <td>https://m.media-amazon.com/images/M/MV5BM2MyNj...</td>\n",
       "      <td>The Godfather</td>\n",
       "      <td>1972</td>\n",
       "      <td>A</td>\n",
       "      <td>175 min</td>\n",
       "      <td>Crime, Drama</td>\n",
       "      <td>9.2</td>\n",
       "      <td>An organized crime dynasty's aging patriarch t...</td>\n",
       "      <td>100.0</td>\n",
       "      <td>Francis Ford Coppola</td>\n",
       "      <td>Marlon Brando</td>\n",
       "      <td>Al Pacino</td>\n",
       "      <td>James Caan</td>\n",
       "      <td>Diane Keaton</td>\n",
       "      <td>1620367</td>\n",
       "      <td>134,966,411</td>\n",
       "      <td>[Crime, Drama]</td>\n",
       "    </tr>\n",
       "  </tbody>\n",
       "</table>\n",
       "</div>"
      ],
      "text/plain": [
       "                                         Poster_Link  \\\n",
       "0  https://m.media-amazon.com/images/M/MV5BMDFkYT...   \n",
       "1  https://m.media-amazon.com/images/M/MV5BM2MyNj...   \n",
       "\n",
       "               Series_Title Released_Year Certificate  Runtime         Genre  \\\n",
       "0  The Shawshank Redemption          1994           A  142 min         Drama   \n",
       "1             The Godfather          1972           A  175 min  Crime, Drama   \n",
       "\n",
       "   IMDB_Rating                                           Overview  Meta_score  \\\n",
       "0          9.3  Two imprisoned men bond over a number of years...        80.0   \n",
       "1          9.2  An organized crime dynasty's aging patriarch t...       100.0   \n",
       "\n",
       "               Director          Star1           Star2       Star3  \\\n",
       "0        Frank Darabont    Tim Robbins  Morgan Freeman  Bob Gunton   \n",
       "1  Francis Ford Coppola  Marlon Brando       Al Pacino  James Caan   \n",
       "\n",
       "            Star4  No_of_Votes        Gross          Genres  \n",
       "0  William Sadler      2343110   28,341,469         [Drama]  \n",
       "1    Diane Keaton      1620367  134,966,411  [Crime, Drama]  "
      ]
     },
     "execution_count": 109,
     "metadata": {},
     "output_type": "execute_result"
    }
   ],
   "source": [
    "dataset[:2]"
   ]
  },
  {
   "cell_type": "code",
   "execution_count": null,
   "metadata": {},
   "outputs": [],
   "source": []
  },
  {
   "cell_type": "code",
   "execution_count": 110,
   "metadata": {
    "scrolled": true
   },
   "outputs": [
    {
     "data": {
      "text/html": [
       "<div>\n",
       "<style scoped>\n",
       "    .dataframe tbody tr th:only-of-type {\n",
       "        vertical-align: middle;\n",
       "    }\n",
       "\n",
       "    .dataframe tbody tr th {\n",
       "        vertical-align: top;\n",
       "    }\n",
       "\n",
       "    .dataframe thead th {\n",
       "        text-align: right;\n",
       "    }\n",
       "</style>\n",
       "<table border=\"1\" class=\"dataframe\">\n",
       "  <thead>\n",
       "    <tr style=\"text-align: right;\">\n",
       "      <th></th>\n",
       "      <th>Action, Adventure</th>\n",
       "      <th>Action, Adventure, Comedy</th>\n",
       "      <th>Action, Adventure, Drama</th>\n",
       "      <th>Action, Adventure, Family</th>\n",
       "      <th>Action, Adventure, Fantasy</th>\n",
       "      <th>Action, Adventure, History</th>\n",
       "      <th>Action, Adventure, Horror</th>\n",
       "      <th>Action, Adventure, Mystery</th>\n",
       "      <th>Action, Adventure, Romance</th>\n",
       "      <th>Action, Adventure, Sci-Fi</th>\n",
       "      <th>...</th>\n",
       "      <th>Film-Noir, Mystery, Thriller</th>\n",
       "      <th>Horror</th>\n",
       "      <th>Horror, Mystery, Sci-Fi</th>\n",
       "      <th>Horror, Mystery, Thriller</th>\n",
       "      <th>Horror, Sci-Fi</th>\n",
       "      <th>Horror, Thriller</th>\n",
       "      <th>Mystery, Romance, Thriller</th>\n",
       "      <th>Mystery, Sci-Fi, Thriller</th>\n",
       "      <th>Mystery, Thriller</th>\n",
       "      <th>Western</th>\n",
       "    </tr>\n",
       "  </thead>\n",
       "  <tbody>\n",
       "    <tr>\n",
       "      <th>0</th>\n",
       "      <td>0</td>\n",
       "      <td>0</td>\n",
       "      <td>0</td>\n",
       "      <td>0</td>\n",
       "      <td>0</td>\n",
       "      <td>0</td>\n",
       "      <td>0</td>\n",
       "      <td>0</td>\n",
       "      <td>0</td>\n",
       "      <td>0</td>\n",
       "      <td>...</td>\n",
       "      <td>0</td>\n",
       "      <td>0</td>\n",
       "      <td>0</td>\n",
       "      <td>0</td>\n",
       "      <td>0</td>\n",
       "      <td>0</td>\n",
       "      <td>0</td>\n",
       "      <td>0</td>\n",
       "      <td>0</td>\n",
       "      <td>0</td>\n",
       "    </tr>\n",
       "    <tr>\n",
       "      <th>1</th>\n",
       "      <td>0</td>\n",
       "      <td>0</td>\n",
       "      <td>0</td>\n",
       "      <td>0</td>\n",
       "      <td>0</td>\n",
       "      <td>0</td>\n",
       "      <td>0</td>\n",
       "      <td>0</td>\n",
       "      <td>0</td>\n",
       "      <td>0</td>\n",
       "      <td>...</td>\n",
       "      <td>0</td>\n",
       "      <td>0</td>\n",
       "      <td>0</td>\n",
       "      <td>0</td>\n",
       "      <td>0</td>\n",
       "      <td>0</td>\n",
       "      <td>0</td>\n",
       "      <td>0</td>\n",
       "      <td>0</td>\n",
       "      <td>0</td>\n",
       "    </tr>\n",
       "    <tr>\n",
       "      <th>2</th>\n",
       "      <td>0</td>\n",
       "      <td>0</td>\n",
       "      <td>0</td>\n",
       "      <td>0</td>\n",
       "      <td>0</td>\n",
       "      <td>0</td>\n",
       "      <td>0</td>\n",
       "      <td>0</td>\n",
       "      <td>0</td>\n",
       "      <td>0</td>\n",
       "      <td>...</td>\n",
       "      <td>0</td>\n",
       "      <td>0</td>\n",
       "      <td>0</td>\n",
       "      <td>0</td>\n",
       "      <td>0</td>\n",
       "      <td>0</td>\n",
       "      <td>0</td>\n",
       "      <td>0</td>\n",
       "      <td>0</td>\n",
       "      <td>0</td>\n",
       "    </tr>\n",
       "    <tr>\n",
       "      <th>3</th>\n",
       "      <td>0</td>\n",
       "      <td>0</td>\n",
       "      <td>0</td>\n",
       "      <td>0</td>\n",
       "      <td>0</td>\n",
       "      <td>0</td>\n",
       "      <td>0</td>\n",
       "      <td>0</td>\n",
       "      <td>0</td>\n",
       "      <td>0</td>\n",
       "      <td>...</td>\n",
       "      <td>0</td>\n",
       "      <td>0</td>\n",
       "      <td>0</td>\n",
       "      <td>0</td>\n",
       "      <td>0</td>\n",
       "      <td>0</td>\n",
       "      <td>0</td>\n",
       "      <td>0</td>\n",
       "      <td>0</td>\n",
       "      <td>0</td>\n",
       "    </tr>\n",
       "    <tr>\n",
       "      <th>4</th>\n",
       "      <td>0</td>\n",
       "      <td>0</td>\n",
       "      <td>0</td>\n",
       "      <td>0</td>\n",
       "      <td>0</td>\n",
       "      <td>0</td>\n",
       "      <td>0</td>\n",
       "      <td>0</td>\n",
       "      <td>0</td>\n",
       "      <td>0</td>\n",
       "      <td>...</td>\n",
       "      <td>0</td>\n",
       "      <td>0</td>\n",
       "      <td>0</td>\n",
       "      <td>0</td>\n",
       "      <td>0</td>\n",
       "      <td>0</td>\n",
       "      <td>0</td>\n",
       "      <td>0</td>\n",
       "      <td>0</td>\n",
       "      <td>0</td>\n",
       "    </tr>\n",
       "    <tr>\n",
       "      <th>...</th>\n",
       "      <td>...</td>\n",
       "      <td>...</td>\n",
       "      <td>...</td>\n",
       "      <td>...</td>\n",
       "      <td>...</td>\n",
       "      <td>...</td>\n",
       "      <td>...</td>\n",
       "      <td>...</td>\n",
       "      <td>...</td>\n",
       "      <td>...</td>\n",
       "      <td>...</td>\n",
       "      <td>...</td>\n",
       "      <td>...</td>\n",
       "      <td>...</td>\n",
       "      <td>...</td>\n",
       "      <td>...</td>\n",
       "      <td>...</td>\n",
       "      <td>...</td>\n",
       "      <td>...</td>\n",
       "      <td>...</td>\n",
       "      <td>...</td>\n",
       "    </tr>\n",
       "    <tr>\n",
       "      <th>990</th>\n",
       "      <td>0</td>\n",
       "      <td>0</td>\n",
       "      <td>0</td>\n",
       "      <td>0</td>\n",
       "      <td>0</td>\n",
       "      <td>0</td>\n",
       "      <td>0</td>\n",
       "      <td>0</td>\n",
       "      <td>0</td>\n",
       "      <td>0</td>\n",
       "      <td>...</td>\n",
       "      <td>0</td>\n",
       "      <td>0</td>\n",
       "      <td>0</td>\n",
       "      <td>0</td>\n",
       "      <td>0</td>\n",
       "      <td>0</td>\n",
       "      <td>0</td>\n",
       "      <td>0</td>\n",
       "      <td>0</td>\n",
       "      <td>0</td>\n",
       "    </tr>\n",
       "    <tr>\n",
       "      <th>991</th>\n",
       "      <td>0</td>\n",
       "      <td>0</td>\n",
       "      <td>0</td>\n",
       "      <td>0</td>\n",
       "      <td>0</td>\n",
       "      <td>0</td>\n",
       "      <td>0</td>\n",
       "      <td>0</td>\n",
       "      <td>0</td>\n",
       "      <td>0</td>\n",
       "      <td>...</td>\n",
       "      <td>0</td>\n",
       "      <td>0</td>\n",
       "      <td>0</td>\n",
       "      <td>0</td>\n",
       "      <td>0</td>\n",
       "      <td>0</td>\n",
       "      <td>0</td>\n",
       "      <td>0</td>\n",
       "      <td>0</td>\n",
       "      <td>0</td>\n",
       "    </tr>\n",
       "    <tr>\n",
       "      <th>992</th>\n",
       "      <td>0</td>\n",
       "      <td>0</td>\n",
       "      <td>0</td>\n",
       "      <td>0</td>\n",
       "      <td>0</td>\n",
       "      <td>0</td>\n",
       "      <td>0</td>\n",
       "      <td>0</td>\n",
       "      <td>0</td>\n",
       "      <td>0</td>\n",
       "      <td>...</td>\n",
       "      <td>0</td>\n",
       "      <td>0</td>\n",
       "      <td>0</td>\n",
       "      <td>0</td>\n",
       "      <td>0</td>\n",
       "      <td>0</td>\n",
       "      <td>0</td>\n",
       "      <td>0</td>\n",
       "      <td>0</td>\n",
       "      <td>0</td>\n",
       "    </tr>\n",
       "    <tr>\n",
       "      <th>994</th>\n",
       "      <td>0</td>\n",
       "      <td>0</td>\n",
       "      <td>0</td>\n",
       "      <td>0</td>\n",
       "      <td>0</td>\n",
       "      <td>0</td>\n",
       "      <td>0</td>\n",
       "      <td>0</td>\n",
       "      <td>0</td>\n",
       "      <td>0</td>\n",
       "      <td>...</td>\n",
       "      <td>0</td>\n",
       "      <td>0</td>\n",
       "      <td>0</td>\n",
       "      <td>0</td>\n",
       "      <td>0</td>\n",
       "      <td>0</td>\n",
       "      <td>0</td>\n",
       "      <td>0</td>\n",
       "      <td>0</td>\n",
       "      <td>0</td>\n",
       "    </tr>\n",
       "    <tr>\n",
       "      <th>997</th>\n",
       "      <td>0</td>\n",
       "      <td>0</td>\n",
       "      <td>0</td>\n",
       "      <td>0</td>\n",
       "      <td>0</td>\n",
       "      <td>0</td>\n",
       "      <td>0</td>\n",
       "      <td>0</td>\n",
       "      <td>0</td>\n",
       "      <td>0</td>\n",
       "      <td>...</td>\n",
       "      <td>0</td>\n",
       "      <td>0</td>\n",
       "      <td>0</td>\n",
       "      <td>0</td>\n",
       "      <td>0</td>\n",
       "      <td>0</td>\n",
       "      <td>0</td>\n",
       "      <td>0</td>\n",
       "      <td>0</td>\n",
       "      <td>0</td>\n",
       "    </tr>\n",
       "  </tbody>\n",
       "</table>\n",
       "<p>714 rows × 172 columns</p>\n",
       "</div>"
      ],
      "text/plain": [
       "     Action, Adventure  Action, Adventure, Comedy  Action, Adventure, Drama  \\\n",
       "0                    0                          0                         0   \n",
       "1                    0                          0                         0   \n",
       "2                    0                          0                         0   \n",
       "3                    0                          0                         0   \n",
       "4                    0                          0                         0   \n",
       "..                 ...                        ...                       ...   \n",
       "990                  0                          0                         0   \n",
       "991                  0                          0                         0   \n",
       "992                  0                          0                         0   \n",
       "994                  0                          0                         0   \n",
       "997                  0                          0                         0   \n",
       "\n",
       "     Action, Adventure, Family  Action, Adventure, Fantasy  \\\n",
       "0                            0                           0   \n",
       "1                            0                           0   \n",
       "2                            0                           0   \n",
       "3                            0                           0   \n",
       "4                            0                           0   \n",
       "..                         ...                         ...   \n",
       "990                          0                           0   \n",
       "991                          0                           0   \n",
       "992                          0                           0   \n",
       "994                          0                           0   \n",
       "997                          0                           0   \n",
       "\n",
       "     Action, Adventure, History  Action, Adventure, Horror  \\\n",
       "0                             0                          0   \n",
       "1                             0                          0   \n",
       "2                             0                          0   \n",
       "3                             0                          0   \n",
       "4                             0                          0   \n",
       "..                          ...                        ...   \n",
       "990                           0                          0   \n",
       "991                           0                          0   \n",
       "992                           0                          0   \n",
       "994                           0                          0   \n",
       "997                           0                          0   \n",
       "\n",
       "     Action, Adventure, Mystery  Action, Adventure, Romance  \\\n",
       "0                             0                           0   \n",
       "1                             0                           0   \n",
       "2                             0                           0   \n",
       "3                             0                           0   \n",
       "4                             0                           0   \n",
       "..                          ...                         ...   \n",
       "990                           0                           0   \n",
       "991                           0                           0   \n",
       "992                           0                           0   \n",
       "994                           0                           0   \n",
       "997                           0                           0   \n",
       "\n",
       "     Action, Adventure, Sci-Fi  ...  Film-Noir, Mystery, Thriller  Horror  \\\n",
       "0                            0  ...                             0       0   \n",
       "1                            0  ...                             0       0   \n",
       "2                            0  ...                             0       0   \n",
       "3                            0  ...                             0       0   \n",
       "4                            0  ...                             0       0   \n",
       "..                         ...  ...                           ...     ...   \n",
       "990                          0  ...                             0       0   \n",
       "991                          0  ...                             0       0   \n",
       "992                          0  ...                             0       0   \n",
       "994                          0  ...                             0       0   \n",
       "997                          0  ...                             0       0   \n",
       "\n",
       "     Horror, Mystery, Sci-Fi  Horror, Mystery, Thriller  Horror, Sci-Fi  \\\n",
       "0                          0                          0               0   \n",
       "1                          0                          0               0   \n",
       "2                          0                          0               0   \n",
       "3                          0                          0               0   \n",
       "4                          0                          0               0   \n",
       "..                       ...                        ...             ...   \n",
       "990                        0                          0               0   \n",
       "991                        0                          0               0   \n",
       "992                        0                          0               0   \n",
       "994                        0                          0               0   \n",
       "997                        0                          0               0   \n",
       "\n",
       "     Horror, Thriller  Mystery, Romance, Thriller  Mystery, Sci-Fi, Thriller  \\\n",
       "0                   0                           0                          0   \n",
       "1                   0                           0                          0   \n",
       "2                   0                           0                          0   \n",
       "3                   0                           0                          0   \n",
       "4                   0                           0                          0   \n",
       "..                ...                         ...                        ...   \n",
       "990                 0                           0                          0   \n",
       "991                 0                           0                          0   \n",
       "992                 0                           0                          0   \n",
       "994                 0                           0                          0   \n",
       "997                 0                           0                          0   \n",
       "\n",
       "     Mystery, Thriller  Western  \n",
       "0                    0        0  \n",
       "1                    0        0  \n",
       "2                    0        0  \n",
       "3                    0        0  \n",
       "4                    0        0  \n",
       "..                 ...      ...  \n",
       "990                  0        0  \n",
       "991                  0        0  \n",
       "992                  0        0  \n",
       "994                  0        0  \n",
       "997                  0        0  \n",
       "\n",
       "[714 rows x 172 columns]"
      ]
     },
     "execution_count": 110,
     "metadata": {},
     "output_type": "execute_result"
    }
   ],
   "source": [
    "one_hot = pd.get_dummies(dataset['Genre'])\n",
    "one_hot"
   ]
  },
  {
   "cell_type": "code",
   "execution_count": 111,
   "metadata": {},
   "outputs": [
    {
     "data": {
      "text/html": [
       "<div>\n",
       "<style scoped>\n",
       "    .dataframe tbody tr th:only-of-type {\n",
       "        vertical-align: middle;\n",
       "    }\n",
       "\n",
       "    .dataframe tbody tr th {\n",
       "        vertical-align: top;\n",
       "    }\n",
       "\n",
       "    .dataframe thead th {\n",
       "        text-align: right;\n",
       "    }\n",
       "</style>\n",
       "<table border=\"1\" class=\"dataframe\">\n",
       "  <thead>\n",
       "    <tr style=\"text-align: right;\">\n",
       "      <th></th>\n",
       "      <th>Poster_Link</th>\n",
       "      <th>Series_Title</th>\n",
       "      <th>Released_Year</th>\n",
       "      <th>Certificate</th>\n",
       "      <th>Runtime</th>\n",
       "      <th>Genre</th>\n",
       "      <th>IMDB_Rating</th>\n",
       "      <th>Overview</th>\n",
       "      <th>Meta_score</th>\n",
       "      <th>Director</th>\n",
       "      <th>...</th>\n",
       "      <th>Film-Noir, Mystery, Thriller</th>\n",
       "      <th>Horror</th>\n",
       "      <th>Horror, Mystery, Sci-Fi</th>\n",
       "      <th>Horror, Mystery, Thriller</th>\n",
       "      <th>Horror, Sci-Fi</th>\n",
       "      <th>Horror, Thriller</th>\n",
       "      <th>Mystery, Romance, Thriller</th>\n",
       "      <th>Mystery, Sci-Fi, Thriller</th>\n",
       "      <th>Mystery, Thriller</th>\n",
       "      <th>Western</th>\n",
       "    </tr>\n",
       "  </thead>\n",
       "  <tbody>\n",
       "    <tr>\n",
       "      <th>0</th>\n",
       "      <td>https://m.media-amazon.com/images/M/MV5BMDFkYT...</td>\n",
       "      <td>The Shawshank Redemption</td>\n",
       "      <td>1994</td>\n",
       "      <td>A</td>\n",
       "      <td>142 min</td>\n",
       "      <td>Drama</td>\n",
       "      <td>9.3</td>\n",
       "      <td>Two imprisoned men bond over a number of years...</td>\n",
       "      <td>80.0</td>\n",
       "      <td>Frank Darabont</td>\n",
       "      <td>...</td>\n",
       "      <td>0</td>\n",
       "      <td>0</td>\n",
       "      <td>0</td>\n",
       "      <td>0</td>\n",
       "      <td>0</td>\n",
       "      <td>0</td>\n",
       "      <td>0</td>\n",
       "      <td>0</td>\n",
       "      <td>0</td>\n",
       "      <td>0</td>\n",
       "    </tr>\n",
       "    <tr>\n",
       "      <th>1</th>\n",
       "      <td>https://m.media-amazon.com/images/M/MV5BM2MyNj...</td>\n",
       "      <td>The Godfather</td>\n",
       "      <td>1972</td>\n",
       "      <td>A</td>\n",
       "      <td>175 min</td>\n",
       "      <td>Crime, Drama</td>\n",
       "      <td>9.2</td>\n",
       "      <td>An organized crime dynasty's aging patriarch t...</td>\n",
       "      <td>100.0</td>\n",
       "      <td>Francis Ford Coppola</td>\n",
       "      <td>...</td>\n",
       "      <td>0</td>\n",
       "      <td>0</td>\n",
       "      <td>0</td>\n",
       "      <td>0</td>\n",
       "      <td>0</td>\n",
       "      <td>0</td>\n",
       "      <td>0</td>\n",
       "      <td>0</td>\n",
       "      <td>0</td>\n",
       "      <td>0</td>\n",
       "    </tr>\n",
       "  </tbody>\n",
       "</table>\n",
       "<p>2 rows × 189 columns</p>\n",
       "</div>"
      ],
      "text/plain": [
       "                                         Poster_Link  \\\n",
       "0  https://m.media-amazon.com/images/M/MV5BMDFkYT...   \n",
       "1  https://m.media-amazon.com/images/M/MV5BM2MyNj...   \n",
       "\n",
       "               Series_Title Released_Year Certificate  Runtime         Genre  \\\n",
       "0  The Shawshank Redemption          1994           A  142 min         Drama   \n",
       "1             The Godfather          1972           A  175 min  Crime, Drama   \n",
       "\n",
       "   IMDB_Rating                                           Overview  Meta_score  \\\n",
       "0          9.3  Two imprisoned men bond over a number of years...        80.0   \n",
       "1          9.2  An organized crime dynasty's aging patriarch t...       100.0   \n",
       "\n",
       "               Director  ... Film-Noir, Mystery, Thriller Horror  \\\n",
       "0        Frank Darabont  ...                            0      0   \n",
       "1  Francis Ford Coppola  ...                            0      0   \n",
       "\n",
       "  Horror, Mystery, Sci-Fi Horror, Mystery, Thriller  Horror, Sci-Fi  \\\n",
       "0                       0                         0               0   \n",
       "1                       0                         0               0   \n",
       "\n",
       "  Horror, Thriller Mystery, Romance, Thriller  Mystery, Sci-Fi, Thriller  \\\n",
       "0                0                          0                          0   \n",
       "1                0                          0                          0   \n",
       "\n",
       "   Mystery, Thriller  Western  \n",
       "0                  0        0  \n",
       "1                  0        0  \n",
       "\n",
       "[2 rows x 189 columns]"
      ]
     },
     "execution_count": 111,
     "metadata": {},
     "output_type": "execute_result"
    }
   ],
   "source": [
    "dataset = dataset.join(one_hot)\n",
    "dataset.head(2)"
   ]
  },
  {
   "cell_type": "code",
   "execution_count": null,
   "metadata": {},
   "outputs": [],
   "source": [
    "with open('movies.csv', 'w', encoding='UTF8') as f:\n",
    "    writer = csv.writer(f)\n",
    "    \n",
    "    # write the data\n",
    "    writer.writerow(data)"
   ]
  }
 ],
 "metadata": {
  "kernelspec": {
   "display_name": "Python 3",
   "language": "python",
   "name": "python3"
  },
  "language_info": {
   "codemirror_mode": {
    "name": "ipython",
    "version": 3
   },
   "file_extension": ".py",
   "mimetype": "text/x-python",
   "name": "python",
   "nbconvert_exporter": "python",
   "pygments_lexer": "ipython3",
   "version": "3.8.5"
  }
 },
 "nbformat": 4,
 "nbformat_minor": 4
}
